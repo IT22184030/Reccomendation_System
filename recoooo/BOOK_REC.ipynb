{
 "cells": [
  {
   "cell_type": "markdown",
   "metadata": {
    "id": "hQy8Jt2LU9Np",
    "jp-MarkdownHeadingCollapsed": true
   },
   "source": [
    "# Package loading"
   ]
  },
  {
   "cell_type": "code",
   "execution_count": 86,
   "metadata": {
    "colab": {
     "base_uri": "https://localhost:8080/"
    },
    "id": "2ClELmTda8cN",
    "outputId": "997c1c4b-85e0-419b-ab2b-b3ebab744f19"
   },
   "outputs": [
    {
     "name": "stdout",
     "output_type": "stream",
     "text": [
      "Collecting titlecase\n",
      "  Using cached titlecase-2.4.1.tar.gz (14 kB)\n",
      "  Installing build dependencies: started\n",
      "  Installing build dependencies: finished with status 'done'\n",
      "  Getting requirements to build wheel: started\n",
      "  Getting requirements to build wheel: finished with status 'done'\n",
      "  Preparing metadata (pyproject.toml): started\n",
      "  Preparing metadata (pyproject.toml): finished with status 'done'\n",
      "Building wheels for collected packages: titlecase\n",
      "  Building wheel for titlecase (pyproject.toml): started\n",
      "  Building wheel for titlecase (pyproject.toml): finished with status 'done'\n",
      "  Created wheel for titlecase: filename=titlecase-2.4.1-py2.py3-none-any.whl size=10991 sha256=2e88e557e078cf2fb254a7f5a3028e40abdea343384ed33b6965573096eec3dc\n",
      "  Stored in directory: c:\\users\\d e l l\\appdata\\local\\pip\\cache\\wheels\\10\\7b\\73\\48cd4db360964e4f7e8d7cdb87f6b84254efac62e75ff07519\n",
      "Successfully built titlecase\n",
      "Installing collected packages: titlecase\n",
      "Successfully installed titlecase-2.4.1\n"
     ]
    }
   ],
   "source": [
    "# Install the titlecase library\n",
    "!pip install titlecase\n"
   ]
  },
  {
   "cell_type": "code",
   "execution_count": 87,
   "metadata": {
    "colab": {
     "base_uri": "https://localhost:8080/"
    },
    "id": "mg7Oi5Br9_bP",
    "outputId": "623a67e5-28ef-412d-a387-ef079f7b7fc4"
   },
   "outputs": [
    {
     "name": "stdout",
     "output_type": "stream",
     "text": [
      "Collecting faker\n",
      "  Downloading Faker-30.1.0-py3-none-any.whl.metadata (15 kB)\n",
      "Requirement already satisfied: tqdm in f:\\programs\\anaconda\\envs\\myenv\\lib\\site-packages (4.66.5)\n",
      "Requirement already satisfied: python-dateutil>=2.4 in f:\\programs\\anaconda\\envs\\myenv\\lib\\site-packages (from faker) (2.9.0.post0)\n",
      "Requirement already satisfied: typing-extensions in f:\\programs\\anaconda\\envs\\myenv\\lib\\site-packages (from faker) (4.11.0)\n",
      "Requirement already satisfied: colorama in f:\\programs\\anaconda\\envs\\myenv\\lib\\site-packages (from tqdm) (0.4.6)\n",
      "Requirement already satisfied: six>=1.5 in f:\\programs\\anaconda\\envs\\myenv\\lib\\site-packages (from python-dateutil>=2.4->faker) (1.16.0)\n",
      "Downloading Faker-30.1.0-py3-none-any.whl (1.8 MB)\n",
      "   ---------------------------------------- 0.0/1.8 MB ? eta -:--:--\n",
      "   ---------------------------------------- 0.0/1.8 MB ? eta -:--:--\n",
      "   ----------- ---------------------------- 0.5/1.8 MB 2.4 MB/s eta 0:00:01\n",
      "   ---------------------------- ----------- 1.3/1.8 MB 2.7 MB/s eta 0:00:01\n",
      "   ---------------------------------------- 1.8/1.8 MB 2.8 MB/s eta 0:00:00\n",
      "Installing collected packages: faker\n",
      "Successfully installed faker-30.1.0\n"
     ]
    }
   ],
   "source": [
    "!pip install faker tqdm"
   ]
  },
  {
   "cell_type": "code",
   "execution_count": 88,
   "metadata": {
    "colab": {
     "base_uri": "https://localhost:8080/"
    },
    "id": "C-hs6f5uVCzh",
    "outputId": "9c01cac1-091a-49d9-e47c-f9e2dfef0c1d"
   },
   "outputs": [
    {
     "name": "stdout",
     "output_type": "stream",
     "text": [
      "Collecting fastcluster\n",
      "  Downloading fastcluster-1.2.6-cp39-cp39-win_amd64.whl.metadata (4.1 kB)\n",
      "Requirement already satisfied: numpy>=1.9 in f:\\programs\\anaconda\\envs\\myenv\\lib\\site-packages (from fastcluster) (1.26.4)\n",
      "Downloading fastcluster-1.2.6-cp39-cp39-win_amd64.whl (36 kB)\n",
      "Installing collected packages: fastcluster\n",
      "Successfully installed fastcluster-1.2.6\n",
      "Note: you may need to restart the kernel to use updated packages.\n"
     ]
    }
   ],
   "source": [
    "pip install fastcluster"
   ]
  },
  {
   "cell_type": "code",
   "execution_count": 89,
   "metadata": {
    "colab": {
     "base_uri": "https://localhost:8080/"
    },
    "id": "pvFmD5cvVGLm",
    "outputId": "8e5fc91c-5580-4d75-ca9f-71d1536e3f66",
    "scrolled": true
   },
   "outputs": [
    {
     "name": "stdout",
     "output_type": "stream",
     "text": [
      "Collecting langdetect\n",
      "  Downloading langdetect-1.0.9.tar.gz (981 kB)\n",
      "     ---------------------------------------- 0.0/981.5 kB ? eta -:--:--\n",
      "     ---------- ----------------------------- 262.1/981.5 kB ? eta -:--:--\n",
      "     -------------------------------------- 981.5/981.5 kB 4.6 MB/s eta 0:00:00\n",
      "  Preparing metadata (setup.py): started\n",
      "  Preparing metadata (setup.py): finished with status 'done'\n",
      "Collecting python-Levenshtein\n",
      "  Downloading python_Levenshtein-0.26.0-py3-none-any.whl.metadata (3.7 kB)\n",
      "Collecting fuzzywuzzy[speedup]\n",
      "  Downloading fuzzywuzzy-0.18.0-py2.py3-none-any.whl.metadata (4.9 kB)\n",
      "Requirement already satisfied: six in f:\\programs\\anaconda\\envs\\myenv\\lib\\site-packages (from langdetect) (1.16.0)\n",
      "Collecting Levenshtein==0.26.0 (from python-Levenshtein)\n",
      "  Downloading levenshtein-0.26.0-cp39-cp39-win_amd64.whl.metadata (3.2 kB)\n",
      "Collecting rapidfuzz<4.0.0,>=3.9.0 (from Levenshtein==0.26.0->python-Levenshtein)\n",
      "  Downloading rapidfuzz-3.10.0-cp39-cp39-win_amd64.whl.metadata (11 kB)\n",
      "Downloading python_Levenshtein-0.26.0-py3-none-any.whl (9.4 kB)\n",
      "Downloading levenshtein-0.26.0-cp39-cp39-win_amd64.whl (98 kB)\n",
      "Downloading fuzzywuzzy-0.18.0-py2.py3-none-any.whl (18 kB)\n",
      "Downloading rapidfuzz-3.10.0-cp39-cp39-win_amd64.whl (1.6 MB)\n",
      "   ---------------------------------------- 0.0/1.6 MB ? eta -:--:--\n",
      "   ------------------------- -------------- 1.0/1.6 MB 7.2 MB/s eta 0:00:01\n",
      "   ---------------------------------------- 1.6/1.6 MB 5.8 MB/s eta 0:00:00\n",
      "Building wheels for collected packages: langdetect\n",
      "  Building wheel for langdetect (setup.py): started\n",
      "  Building wheel for langdetect (setup.py): finished with status 'done'\n",
      "  Created wheel for langdetect: filename=langdetect-1.0.9-py3-none-any.whl size=993251 sha256=aa02c2285ceffdf71e13a17f6151b2c8b48839932e1963f442e428199a67fd29\n",
      "  Stored in directory: c:\\users\\d e l l\\appdata\\local\\pip\\cache\\wheels\\d1\\c1\\d9\\7e068de779d863bc8f8fc9467d85e25cfe47fa5051fff1a1bb\n",
      "Successfully built langdetect\n",
      "Installing collected packages: fuzzywuzzy, rapidfuzz, langdetect, Levenshtein, python-Levenshtein\n",
      "Successfully installed Levenshtein-0.26.0 fuzzywuzzy-0.18.0 langdetect-1.0.9 python-Levenshtein-0.26.0 rapidfuzz-3.10.0\n",
      "Note: you may need to restart the kernel to use updated packages.\n"
     ]
    }
   ],
   "source": [
    "pip install langdetect fuzzywuzzy[speedup] python-Levenshtein\n"
   ]
  },
  {
   "cell_type": "code",
   "execution_count": 90,
   "metadata": {
    "colab": {
     "base_uri": "https://localhost:8080/"
    },
    "id": "n7pQ8YN6VGZX",
    "outputId": "669b901a-fc15-4939-bd7d-1c6b5deea1fc"
   },
   "outputs": [
    {
     "name": "stdout",
     "output_type": "stream",
     "text": [
      "Requirement already satisfied: joblib in f:\\programs\\anaconda\\envs\\myenv\\lib\\site-packages (1.4.2)\n",
      "Note: you may need to restart the kernel to use updated packages.\n"
     ]
    }
   ],
   "source": [
    "pip install joblib"
   ]
  },
  {
   "cell_type": "code",
   "execution_count": 91,
   "metadata": {
    "colab": {
     "base_uri": "https://localhost:8080/"
    },
    "id": "g5BMFwFJYBwa",
    "outputId": "9f8f171f-8aee-4ae1-d84b-5a820f99c8d9"
   },
   "outputs": [
    {
     "name": "stdout",
     "output_type": "stream",
     "text": [
      "Requirement already satisfied: scikit-surprise in f:\\programs\\anaconda\\envs\\myenv\\lib\\site-packages (1.1.4)\n",
      "Requirement already satisfied: joblib>=1.2.0 in f:\\programs\\anaconda\\envs\\myenv\\lib\\site-packages (from scikit-surprise) (1.4.2)\n",
      "Requirement already satisfied: numpy>=1.19.5 in f:\\programs\\anaconda\\envs\\myenv\\lib\\site-packages (from scikit-surprise) (1.26.4)\n",
      "Requirement already satisfied: scipy>=1.6.0 in f:\\programs\\anaconda\\envs\\myenv\\lib\\site-packages (from scikit-surprise) (1.13.1)\n"
     ]
    }
   ],
   "source": [
    "!pip install scikit-surprise"
   ]
  },
  {
   "cell_type": "code",
   "execution_count": 92,
   "metadata": {},
   "outputs": [
    {
     "name": "stdout",
     "output_type": "stream",
     "text": [
      "Requirement already satisfied: matplotlib in f:\\programs\\anaconda\\envs\\myenv\\lib\\site-packages (3.9.2)\n",
      "Requirement already satisfied: contourpy>=1.0.1 in f:\\programs\\anaconda\\envs\\myenv\\lib\\site-packages (from matplotlib) (1.3.0)\n",
      "Requirement already satisfied: cycler>=0.10 in f:\\programs\\anaconda\\envs\\myenv\\lib\\site-packages (from matplotlib) (0.12.1)\n",
      "Requirement already satisfied: fonttools>=4.22.0 in f:\\programs\\anaconda\\envs\\myenv\\lib\\site-packages (from matplotlib) (4.54.1)\n",
      "Requirement already satisfied: kiwisolver>=1.3.1 in f:\\programs\\anaconda\\envs\\myenv\\lib\\site-packages (from matplotlib) (1.4.7)\n",
      "Requirement already satisfied: numpy>=1.23 in f:\\programs\\anaconda\\envs\\myenv\\lib\\site-packages (from matplotlib) (1.26.4)\n",
      "Requirement already satisfied: packaging>=20.0 in f:\\programs\\anaconda\\envs\\myenv\\lib\\site-packages (from matplotlib) (24.1)\n",
      "Requirement already satisfied: pillow>=8 in f:\\programs\\anaconda\\envs\\myenv\\lib\\site-packages (from matplotlib) (10.4.0)\n",
      "Requirement already satisfied: pyparsing>=2.3.1 in f:\\programs\\anaconda\\envs\\myenv\\lib\\site-packages (from matplotlib) (3.1.4)\n",
      "Requirement already satisfied: python-dateutil>=2.7 in f:\\programs\\anaconda\\envs\\myenv\\lib\\site-packages (from matplotlib) (2.9.0.post0)\n",
      "Requirement already satisfied: importlib-resources>=3.2.0 in f:\\programs\\anaconda\\envs\\myenv\\lib\\site-packages (from matplotlib) (6.4.5)\n",
      "Requirement already satisfied: zipp>=3.1.0 in f:\\programs\\anaconda\\envs\\myenv\\lib\\site-packages (from importlib-resources>=3.2.0->matplotlib) (3.17.0)\n",
      "Requirement already satisfied: six>=1.5 in f:\\programs\\anaconda\\envs\\myenv\\lib\\site-packages (from python-dateutil>=2.7->matplotlib) (1.16.0)\n",
      "Note: you may need to restart the kernel to use updated packages.\n"
     ]
    }
   ],
   "source": [
    "pip install matplotlib"
   ]
  },
  {
   "cell_type": "code",
   "execution_count": 93,
   "metadata": {},
   "outputs": [
    {
     "name": "stdout",
     "output_type": "stream",
     "text": [
      "Requirement already satisfied: seaborn in f:\\programs\\anaconda\\envs\\myenv\\lib\\site-packages (0.13.2)\n",
      "Requirement already satisfied: numpy!=1.24.0,>=1.20 in f:\\programs\\anaconda\\envs\\myenv\\lib\\site-packages (from seaborn) (1.26.4)\n",
      "Requirement already satisfied: pandas>=1.2 in f:\\programs\\anaconda\\envs\\myenv\\lib\\site-packages (from seaborn) (2.2.3)\n",
      "Requirement already satisfied: matplotlib!=3.6.1,>=3.4 in f:\\programs\\anaconda\\envs\\myenv\\lib\\site-packages (from seaborn) (3.9.2)\n",
      "Requirement already satisfied: contourpy>=1.0.1 in f:\\programs\\anaconda\\envs\\myenv\\lib\\site-packages (from matplotlib!=3.6.1,>=3.4->seaborn) (1.3.0)\n",
      "Requirement already satisfied: cycler>=0.10 in f:\\programs\\anaconda\\envs\\myenv\\lib\\site-packages (from matplotlib!=3.6.1,>=3.4->seaborn) (0.12.1)\n",
      "Requirement already satisfied: fonttools>=4.22.0 in f:\\programs\\anaconda\\envs\\myenv\\lib\\site-packages (from matplotlib!=3.6.1,>=3.4->seaborn) (4.54.1)\n",
      "Requirement already satisfied: kiwisolver>=1.3.1 in f:\\programs\\anaconda\\envs\\myenv\\lib\\site-packages (from matplotlib!=3.6.1,>=3.4->seaborn) (1.4.7)\n",
      "Requirement already satisfied: packaging>=20.0 in f:\\programs\\anaconda\\envs\\myenv\\lib\\site-packages (from matplotlib!=3.6.1,>=3.4->seaborn) (24.1)\n",
      "Requirement already satisfied: pillow>=8 in f:\\programs\\anaconda\\envs\\myenv\\lib\\site-packages (from matplotlib!=3.6.1,>=3.4->seaborn) (10.4.0)\n",
      "Requirement already satisfied: pyparsing>=2.3.1 in f:\\programs\\anaconda\\envs\\myenv\\lib\\site-packages (from matplotlib!=3.6.1,>=3.4->seaborn) (3.1.4)\n",
      "Requirement already satisfied: python-dateutil>=2.7 in f:\\programs\\anaconda\\envs\\myenv\\lib\\site-packages (from matplotlib!=3.6.1,>=3.4->seaborn) (2.9.0.post0)\n",
      "Requirement already satisfied: importlib-resources>=3.2.0 in f:\\programs\\anaconda\\envs\\myenv\\lib\\site-packages (from matplotlib!=3.6.1,>=3.4->seaborn) (6.4.5)\n",
      "Requirement already satisfied: pytz>=2020.1 in f:\\programs\\anaconda\\envs\\myenv\\lib\\site-packages (from pandas>=1.2->seaborn) (2024.2)\n",
      "Requirement already satisfied: tzdata>=2022.7 in f:\\programs\\anaconda\\envs\\myenv\\lib\\site-packages (from pandas>=1.2->seaborn) (2024.2)\n",
      "Requirement already satisfied: zipp>=3.1.0 in f:\\programs\\anaconda\\envs\\myenv\\lib\\site-packages (from importlib-resources>=3.2.0->matplotlib!=3.6.1,>=3.4->seaborn) (3.17.0)\n",
      "Requirement already satisfied: six>=1.5 in f:\\programs\\anaconda\\envs\\myenv\\lib\\site-packages (from python-dateutil>=2.7->matplotlib!=3.6.1,>=3.4->seaborn) (1.16.0)\n",
      "Note: you may need to restart the kernel to use updated packages.\n"
     ]
    }
   ],
   "source": [
    "pip install seaborn"
   ]
  },
  {
   "cell_type": "code",
   "execution_count": 94,
   "metadata": {
    "id": "sk6XNRUJVNYD"
   },
   "outputs": [],
   "source": [
    "import pandas as pd\n",
    "import numpy as np\n",
    "import matplotlib.pyplot as plt\n",
    "import seaborn as sns\n",
    "\n",
    "from sklearn.metrics.pairwise import cosine_similarity\n",
    "from sklearn.feature_extraction.text import TfidfVectorizer\n",
    "\n",
    "import os\n",
    "from scipy.sparse import coo_matrix"
   ]
  },
  {
   "cell_type": "markdown",
   "metadata": {
    "id": "3fZ-_uVlVcZN",
    "jp-MarkdownHeadingCollapsed": true
   },
   "source": [
    "# Data loading"
   ]
  },
  {
   "cell_type": "code",
   "execution_count": 96,
   "metadata": {
    "colab": {
     "base_uri": "https://localhost:8080/"
    },
    "id": "pWucY8-VVb-8",
    "outputId": "8cc20add-e71c-46cb-a0be-afb1efe2d900"
   },
   "outputs": [
    {
     "ename": "ModuleNotFoundError",
     "evalue": "No module named 'google.colab'",
     "output_type": "error",
     "traceback": [
      "\u001b[1;31m---------------------------------------------------------------------------\u001b[0m",
      "\u001b[1;31mModuleNotFoundError\u001b[0m                       Traceback (most recent call last)",
      "Cell \u001b[1;32mIn[96], line 1\u001b[0m\n\u001b[1;32m----> 1\u001b[0m \u001b[38;5;28;01mfrom\u001b[39;00m \u001b[38;5;21;01mgoogle\u001b[39;00m\u001b[38;5;21;01m.\u001b[39;00m\u001b[38;5;21;01mcolab\u001b[39;00m \u001b[38;5;28;01mimport\u001b[39;00m drive\n\u001b[0;32m      2\u001b[0m drive\u001b[38;5;241m.\u001b[39mmount(\u001b[38;5;124m'\u001b[39m\u001b[38;5;124m/content/drive\u001b[39m\u001b[38;5;124m'\u001b[39m)\n",
      "\u001b[1;31mModuleNotFoundError\u001b[0m: No module named 'google.colab'"
     ]
    }
   ],
   "source": [
    "from google.colab import drive\n",
    "drive.mount('/content/drive')"
   ]
  },
  {
   "cell_type": "code",
   "execution_count": null,
   "metadata": {
    "id": "PtzM0MFjVvxu"
   },
   "outputs": [],
   "source": [
    "dataset_data= pd.read_csv('/content/drive/MyDrive/book-rec-collab/NEW.csv')"
   ]
  },
  {
   "cell_type": "code",
   "execution_count": null,
   "metadata": {
    "colab": {
     "base_uri": "https://localhost:8080/",
     "height": 236
    },
    "id": "JK6YjnynWB8_",
    "outputId": "a943124d-69bc-4d82-b86f-50ec25f17eae"
   },
   "outputs": [],
   "source": [
    "dataset_data.head(2)"
   ]
  },
  {
   "cell_type": "code",
   "execution_count": null,
   "metadata": {
    "colab": {
     "base_uri": "https://localhost:8080/",
     "height": 554
    },
    "id": "KCtzDeLNWK9C",
    "outputId": "c6c114b0-c08d-4c82-f827-1ae3b24e3a1b"
   },
   "outputs": [],
   "source": [
    "dataset_data.isnull().sum()"
   ]
  },
  {
   "cell_type": "code",
   "execution_count": null,
   "metadata": {
    "colab": {
     "base_uri": "https://localhost:8080/"
    },
    "id": "O7NkNzbaWnSi",
    "outputId": "10317db0-4c36-4adf-d00c-dbd1c95138ee"
   },
   "outputs": [],
   "source": [
    "dataset_data.duplicated().sum()"
   ]
  },
  {
   "cell_type": "code",
   "execution_count": null,
   "metadata": {
    "id": "cUCRXMInWwSr"
   },
   "outputs": [],
   "source": [
    "dataset_data.drop_duplicates(inplace=True)"
   ]
  },
  {
   "cell_type": "code",
   "execution_count": null,
   "metadata": {
    "colab": {
     "base_uri": "https://localhost:8080/"
    },
    "id": "qpo0mH3jW3A0",
    "outputId": "aa306d43-dd37-48ef-915e-e63a865a73ea"
   },
   "outputs": [],
   "source": [
    "dataset_data.columns"
   ]
  },
  {
   "cell_type": "code",
   "execution_count": null,
   "metadata": {
    "id": "PFjhXVurXZYy"
   },
   "outputs": [],
   "source": [
    "column_name_mapping = {\n",
    "\n",
    "    'User':'userID',\n",
    "    'profileName' : 'userName',\n",
    "    'ISBN' : 'bookID',\n",
    "    'authors_split': 'authors',\n",
    "    'categories_split':'category_list'\n",
    "}\n",
    "\n",
    "dataset_data.rename(columns=column_name_mapping, inplace=True)"
   ]
  },
  {
   "cell_type": "code",
   "execution_count": null,
   "metadata": {
    "colab": {
     "base_uri": "https://localhost:8080/"
    },
    "id": "afCYi-ZZXukp",
    "outputId": "b2f7e022-85d7-42fa-d2ff-6b70a98ea149"
   },
   "outputs": [],
   "source": [
    "dataset_data.columns"
   ]
  },
  {
   "cell_type": "markdown",
   "metadata": {
    "id": "giz-5iDqX3qD",
    "jp-MarkdownHeadingCollapsed": true
   },
   "source": [
    "# Pre processing"
   ]
  },
  {
   "cell_type": "code",
   "execution_count": null,
   "metadata": {
    "id": "F9FH0gOgaiBm"
   },
   "outputs": [],
   "source": [
    "dataset_data['bookTitle'] = dataset_data['Title']\n",
    "dataset_data['bookAuthor'] = dataset_data['authors']\n",
    "dataset_data['bookCategory'] = dataset_data['category_list']\n",
    "dataset_data['bookPublisher']=dataset_data['publisher']"
   ]
  },
  {
   "cell_type": "code",
   "execution_count": null,
   "metadata": {
    "id": "1wD8FT2hduGs"
   },
   "outputs": [],
   "source": [
    "dataset_data['bookTitle']=dataset_data['bookTitle'].astype(str)\n",
    "dataset_data['bookAuthor']=dataset_data['bookAuthor'].astype(str)\n",
    "dataset_data['bookCategory']=dataset_data['bookCategory'].astype(str)\n",
    "dataset_data['bookPublisher']=dataset_data['bookPublisher'].astype(str)"
   ]
  },
  {
   "cell_type": "code",
   "execution_count": null,
   "metadata": {
    "id": "f4lfHbj-eadj"
   },
   "outputs": [],
   "source": [
    "from titlecase import titlecase\n",
    "\n",
    "# Apply the titlecase function to the 'title' column\n",
    "dataset_data['bookTitle'] = dataset_data['bookTitle'].apply(titlecase)\n"
   ]
  },
  {
   "cell_type": "code",
   "execution_count": null,
   "metadata": {
    "id": "ZKjSL3bofIS4"
   },
   "outputs": [],
   "source": [
    "dataset_data['bookAuthor'] = dataset_data['bookAuthor'].apply(titlecase)\n",
    "dataset_data['bookCategory'] = dataset_data['bookCategory'].apply(titlecase)\n",
    "dataset_data['bookPublisher'] = dataset_data['bookPublisher'].apply(titlecase)"
   ]
  },
  {
   "cell_type": "markdown",
   "metadata": {
    "id": "KW3dtUWGakWV"
   },
   "source": [
    "Title cleaning"
   ]
  },
  {
   "cell_type": "code",
   "execution_count": null,
   "metadata": {
    "id": "sG6ztBBNX6AI"
   },
   "outputs": [],
   "source": [
    "# remove special characters from book title\n",
    "import string\n",
    "dataset_data['Title'] = dataset_data['Title'].str.translate(str.maketrans('', '', string.punctuation))\n"
   ]
  },
  {
   "cell_type": "code",
   "execution_count": null,
   "metadata": {
    "id": "_EawhO6pYIi5"
   },
   "outputs": [],
   "source": [
    "#rim whitespace\n",
    "dataset_data['Title'] = dataset_data['Title'].str.strip()\n"
   ]
  },
  {
   "cell_type": "code",
   "execution_count": null,
   "metadata": {
    "colab": {
     "base_uri": "https://localhost:8080/"
    },
    "id": "TLg7qqoL4xoR",
    "outputId": "6dc141c0-2002-4755-8dba-ba4b524acb83"
   },
   "outputs": [],
   "source": [
    "#remove common words like \"a\", \"an\"\n",
    "from nltk.corpus import stopwords\n",
    "import nltk\n",
    "nltk.download('stopwords')\n",
    "\n",
    "stop_words = set(stopwords.words('english'))\n",
    "dataset_data['Title'] = dataset_data['Title'].apply(lambda x: ' '.join([word for word in x.split() if word not in stop_words]))"
   ]
  },
  {
   "cell_type": "code",
   "execution_count": null,
   "metadata": {
    "colab": {
     "base_uri": "https://localhost:8080/"
    },
    "id": "XX4M_Onl5Sol",
    "outputId": "3e95156f-ffb6-4b60-de26-0a8325d97025"
   },
   "outputs": [],
   "source": [
    "# lemmatization/ stemming to reduce words to thir base form\n",
    "from nltk.stem import WordNetLemmatizer\n",
    "lemmatizer = WordNetLemmatizer()\n",
    "nltk.download('wordnet')\n",
    "dataset_data['dataset_data'] = dataset_data['Title'].apply(lambda x: ' '.join([lemmatizer.lemmatize(word) for word in x.split()]))\n"
   ]
  },
  {
   "cell_type": "markdown",
   "metadata": {
    "id": "8yNnnEyA59mS"
   },
   "source": [
    "Identify duplicate books"
   ]
  },
  {
   "cell_type": "code",
   "execution_count": null,
   "metadata": {
    "colab": {
     "base_uri": "https://localhost:8080/"
    },
    "id": "vHTAAUFy9yEJ",
    "outputId": "b761f27a-e816-4a64-d048-64a96bc843a6"
   },
   "outputs": [],
   "source": [
    "# Identify and handle empty processed titles\n",
    "empty_titles = dataset_data[dataset_data['Title'] == '']\n",
    "print(\"Number of titles reduced to empty strings:\", len(empty_titles))\n",
    "# Decide to remove or retain these entries\n",
    "dataset_data = dataset_data[dataset_data['Title'] != '']"
   ]
  },
  {
   "cell_type": "markdown",
   "metadata": {
    "id": "iQUxiEZB_ma3"
   },
   "source": [
    "checking about empty string titled books"
   ]
  },
  {
   "cell_type": "code",
   "execution_count": null,
   "metadata": {
    "id": "ZqDtVT2wa3TG"
   },
   "outputs": [],
   "source": [
    "records = pd.read_csv('/content/records.csv')"
   ]
  },
  {
   "cell_type": "code",
   "execution_count": null,
   "metadata": {
    "id": "HUxQiQqj_up5"
   },
   "outputs": [],
   "source": [
    "empty_title_rows = records[dataset_data['Title'] == '']"
   ]
  },
  {
   "cell_type": "code",
   "execution_count": null,
   "metadata": {
    "colab": {
     "base_uri": "https://localhost:8080/"
    },
    "id": "Adkj5jMn_7nk",
    "outputId": "a390f914-6310-46b2-a295-32ad1bb05cb7"
   },
   "outputs": [],
   "source": [
    "num_empty_titles = len(empty_title_rows)\n",
    "total_titles = len(records)\n",
    "print(f\"Number of titles reduced to empty strings: {num_empty_titles} out of {total_titles}\")"
   ]
  },
  {
   "cell_type": "code",
   "execution_count": null,
   "metadata": {
    "id": "WPXOl7iK6BWC"
   },
   "outputs": [],
   "source": [
    "from fuzzywuzzy import fuzz\n",
    "from fuzzywuzzy import process\n"
   ]
  },
  {
   "cell_type": "code",
   "execution_count": null,
   "metadata": {
    "id": "XApux8IU6HoS"
   },
   "outputs": [],
   "source": [
    "def find_matches(row, choices, threshold=80):\n",
    "    match = process.extractOne(row['Title'], choices, scorer=fuzz.token_sort_ratio)\n",
    "    if match[1] >= threshold:\n",
    "        return match[0]\n",
    "    else:\n",
    "        return row['Title']\n",
    "unique_titles = records['Title'].unique()\n",
    "records['canonical_title'] = records.apply(find_matches, axis=1, choices=unique_titles)\n"
   ]
  },
  {
   "cell_type": "code",
   "execution_count": null,
   "metadata": {
    "colab": {
     "base_uri": "https://localhost:8080/"
    },
    "id": "Zl6P4toSL4vJ",
    "outputId": "44e86383-2d8c-43c4-d1f9-0fd37c5cc811"
   },
   "outputs": [],
   "source": [
    "records.columns"
   ]
  },
  {
   "cell_type": "code",
   "execution_count": null,
   "metadata": {
    "colab": {
     "base_uri": "https://localhost:8080/"
    },
    "id": "yy11kHgyn7Tv",
    "outputId": "6b6eee7d-c7dc-474a-f4a4-882743ea098c"
   },
   "outputs": [],
   "source": [
    "records['canonical_title'].nunique()"
   ]
  },
  {
   "cell_type": "code",
   "execution_count": null,
   "metadata": {
    "id": "PBpjj3UKQ0X1"
   },
   "outputs": [],
   "source": [
    "#cluster titles\n",
    "from sklearn.feature_extraction.text import TfidfVectorizer\n",
    "from sklearn.cluster import KMeans\n",
    "\n",
    "vectorizer = TfidfVectorizer()\n",
    "X = vectorizer.fit_transform(records['canonical_title'])\n",
    "\n",
    "k = 50  #number of clusters\n",
    "model = KMeans(n_clusters=k)\n",
    "model.fit(X)\n",
    "\n",
    "records['cluster'] = model.labels_\n"
   ]
  },
  {
   "cell_type": "code",
   "execution_count": null,
   "metadata": {
    "id": "09862cLHSpKf"
   },
   "outputs": [],
   "source": [
    "#create canonical_book_id\n",
    "records['canonical_book_id'] = records.groupby('canonical_title').ngroup()"
   ]
  },
  {
   "cell_type": "code",
   "execution_count": null,
   "metadata": {
    "id": "IhlI6Yjz2Awa"
   },
   "outputs": [],
   "source": [
    "copied = records.copy()"
   ]
  },
  {
   "cell_type": "code",
   "execution_count": null,
   "metadata": {
    "id": "6qo0-5Iy-r2a"
   },
   "outputs": [],
   "source": [
    "dataset_data=copied.copy()"
   ]
  },
  {
   "cell_type": "code",
   "execution_count": null,
   "metadata": {
    "id": "6xfINZvWTYFY"
   },
   "outputs": [],
   "source": [
    "book_meta = records.groupby('canonical_book_id').agg({\n",
    "    'userID': 'first',\n",
    "    'userName': 'first',\n",
    "    'rating': 'first',\n",
    "    'bookTitle': 'first',\n",
    "    'bookAuthor': 'first',\n",
    "    'bookCategory': 'first',\n",
    "    'bookPublisher': 'first',\n",
    "    'description': 'first',\n",
    "    'image': 'first',\n",
    "    'rating': 'first',\n",
    "    'Title': 'first',\n",
    "    'authors': 'first',\n",
    "    'publishedDate': 'first',\n",
    "    'Price': 'first',\n",
    "    'publisher': 'first',\n",
    "    'categories': 'first',\n",
    "    # Add other fields as necessary\n",
    "}).reset_index()\n"
   ]
  },
  {
   "cell_type": "code",
   "execution_count": null,
   "metadata": {
    "id": "Lff_wvtMUsHy"
   },
   "outputs": [],
   "source": [
    "#chceck duplicates for same user rating for same book with canonical_book_id\n",
    "duplicates = records[records.duplicated(subset=['userID','userName', 'canonical_book_id','authors','Price','publisher'], keep=False)]\n"
   ]
  },
  {
   "cell_type": "code",
   "execution_count": null,
   "metadata": {
    "id": "GYGscndLWSKJ"
   },
   "outputs": [],
   "source": [
    "#resolve duplicates\n",
    "records = records.groupby(['userID', 'canonical_book_id']).agg({\n",
    "    'userName': 'first',\n",
    "    'bookID': 'first',\n",
    "    'rating': 'first',\n",
    "    'bookTitle': 'first',\n",
    "    'bookAuthor': 'first',\n",
    "    'bookCategory': 'first',\n",
    "    'bookPublisher': 'first',\n",
    "    'description': 'first',\n",
    "    'image': 'first',\n",
    "    'rating': 'first',\n",
    "    'Title': 'first',\n",
    "    'authors': 'first',\n",
    "    'publishedDate': 'first',\n",
    "    'Price': 'first',\n",
    "    'publisher': 'first',\n",
    "    'categories': 'first',\n",
    "}).reset_index()"
   ]
  },
  {
   "cell_type": "code",
   "execution_count": null,
   "metadata": {
    "id": "PQZPfPT2xqci"
   },
   "outputs": [],
   "source": [
    "records.to_csv('data.csv', index=False)"
   ]
  },
  {
   "cell_type": "markdown",
   "metadata": {
    "id": "5JmHzXQhWgCm"
   },
   "source": [
    "Final cleaning"
   ]
  },
  {
   "cell_type": "code",
   "execution_count": null,
   "metadata": {
    "colab": {
     "base_uri": "https://localhost:8080/"
    },
    "id": "muIOXhWrWhzq",
    "outputId": "be706acd-ff41-4bfc-9141-debc47b9d263"
   },
   "outputs": [],
   "source": [
    "# Number of unique bookIDs\n",
    "num_bookIDs = records['bookID'].nunique()\n",
    "\n",
    "# Number of unique canonical_book_ids\n",
    "num_canonical_book_ids = records['canonical_book_id'].nunique()\n",
    "\n",
    "print(f\"Number of unique bookIDs: {num_bookIDs}\")\n",
    "print(f\"Number of unique canonical_book_ids: {num_canonical_book_ids}\")\n"
   ]
  },
  {
   "cell_type": "code",
   "execution_count": null,
   "metadata": {
    "colab": {
     "base_uri": "https://localhost:8080/",
     "height": 617
    },
    "id": "z0SIyInbp7tF",
    "outputId": "938f5c40-c11f-420e-b820-4fa84906950a"
   },
   "outputs": [],
   "source": [
    "records.nunique()"
   ]
  },
  {
   "cell_type": "markdown",
   "metadata": {
    "id": "XZFvOElcrEyE"
   },
   "source": [
    "dataset reduction"
   ]
  },
  {
   "cell_type": "code",
   "execution_count": null,
   "metadata": {
    "id": "-AvEE4TorPlH"
   },
   "outputs": [],
   "source": [
    "rec = records.copy()"
   ]
  },
  {
   "cell_type": "code",
   "execution_count": null,
   "metadata": {
    "colab": {
     "base_uri": "https://localhost:8080/"
    },
    "id": "KriCcYPIrEUM",
    "outputId": "116c3161-5df9-426c-88d1-98bc1d1f5b9f"
   },
   "outputs": [],
   "source": [
    "\n",
    "# Filter users with at least 5 ratings\n",
    "user_rating_counts = records.groupby('userID').size().reset_index(name='rating_count')\n",
    "active_users = user_rating_counts[user_rating_counts['rating_count'] >= 5]['userID']\n",
    "df_active_users = records[records['userID'].isin(active_users)]\n",
    "\n",
    "# Identify top N books\n",
    "book_rating_counts = df_active_users.groupby('canonical_book_id').size().reset_index(name='rating_count')\n",
    "top_books = book_rating_counts.sort_values(by='rating_count', ascending=False)\n",
    "\n",
    "# Adjust N to approach 10,000 records\n",
    "N = 500\n",
    "top_N_books = top_books.head(N)['canonical_book_id']\n",
    "df_top_books = df_active_users[df_active_users['canonical_book_id'].isin(top_N_books)]\n",
    "\n",
    "# Check the number of records\n",
    "total_records = df_top_books.shape[0]\n",
    "print(f\"Total records after filtering: {total_records}\")\n",
    "\n",
    "\n"
   ]
  },
  {
   "cell_type": "markdown",
   "metadata": {
    "id": "3970638srvAS"
   },
   "source": [
    "get a sample of 10000 records"
   ]
  },
  {
   "cell_type": "code",
   "execution_count": null,
   "metadata": {
    "id": "4LlbyQ2Kro4A"
   },
   "outputs": [],
   "source": [
    "# Sample\n",
    "if total_records > 10000:\n",
    "    df_sampled = df_top_books.sample(n=10000, random_state=42)\n",
    "else:\n",
    "    df_sampled = df_top_books\n",
    "\n"
   ]
  },
  {
   "cell_type": "markdown",
   "metadata": {
    "id": "NRis8HVT8rfm"
   },
   "source": [
    "use faker for assign synthetic data for timestamp for recommendation purposes"
   ]
  },
  {
   "cell_type": "code",
   "execution_count": null,
   "metadata": {
    "colab": {
     "base_uri": "https://localhost:8080/"
    },
    "id": "bxGzgl0f8n3Z",
    "outputId": "3057252d-ecfb-4e79-f7ea-590ce694d949"
   },
   "outputs": [],
   "source": [
    "from faker import Faker\n",
    "from tqdm import tqdm\n",
    "import datetime\n",
    "\n",
    "# Initialize Faker and set seed for reproducibility\n",
    "fake = Faker()\n",
    "Faker.seed(42)\n",
    "\n",
    "# Assuming 'df' is your DataFrame\n",
    "num_rows = df_sampled.shape[0]\n",
    "\n",
    "# Define date range\n",
    "start_date = datetime.date(2014, 1, 1)\n",
    "end_date = datetime.date(2019, 12, 31)\n",
    "\n",
    "# Generate random dates using date_between\n",
    "timestamps = [fake.date_between(start_date=start_date, end_date=end_date) for _ in tqdm(range(num_rows), desc=\"Generating timestamps\")]\n",
    "\n",
    "# Assign the timestamps to the DataFrame\n",
    "df_sampled['timestamp'] = timestamps\n"
   ]
  },
  {
   "cell_type": "code",
   "execution_count": null,
   "metadata": {
    "id": "uJC2fWMP8mqs"
   },
   "outputs": [],
   "source": [
    "# Save the reduced dataset\n",
    "df_sampled.to_csv('reduced_dataset.csv', index=False)"
   ]
  },
  {
   "cell_type": "code",
   "execution_count": null,
   "metadata": {
    "id": "JJ9nL5tOZ1Z3"
   },
   "outputs": [],
   "source": [
    "df_sampled=pd.read_csv('/content/drive/MyDrive/IRWA/reduced_dataset.csv')"
   ]
  },
  {
   "cell_type": "code",
   "execution_count": null,
   "metadata": {
    "id": "SFmAMKPNudAx"
   },
   "outputs": [],
   "source": [
    "\n",
    "\n",
    "#Calculate number of ratings per book\n",
    "book_rating_counts = df_sampled.groupby('canonical_book_id').size().reset_index(name='rating_count')\n",
    "\n",
    "#Merge with the original dataset\n",
    "df = pd.merge(df_sampled, book_rating_counts, on='canonical_book_id', how='left')\n",
    "\n",
    "#Calculate number of ratings per user\n",
    "user_rating_counts = df_sampled.groupby('userID').size().reset_index(name='rated_books_count')\n",
    "\n",
    "#Merge with the original dataset\n",
    "df = pd.merge(df, user_rating_counts, on='userID', how='left')\n"
   ]
  },
  {
   "cell_type": "code",
   "execution_count": null,
   "metadata": {
    "colab": {
     "base_uri": "https://localhost:8080/",
     "height": 236
    },
    "id": "fgwEpjs6wosy",
    "outputId": "a5564840-3e37-4430-916b-49b5afe319aa"
   },
   "outputs": [],
   "source": [
    "df.head(2)"
   ]
  },
  {
   "cell_type": "markdown",
   "metadata": {
    "id": "OEpYW5F9u6KD",
    "jp-MarkdownHeadingCollapsed": true
   },
   "source": [
    "# EDA"
   ]
  },
  {
   "cell_type": "code",
   "execution_count": null,
   "metadata": {
    "colab": {
     "base_uri": "https://localhost:8080/"
    },
    "id": "7JZRFaADu8ml",
    "outputId": "7663d1ff-9a60-4113-dd73-9f44f2b9502a"
   },
   "outputs": [],
   "source": [
    "# basic statics\n",
    "print(df['rating'].describe())"
   ]
  },
  {
   "cell_type": "code",
   "execution_count": null,
   "metadata": {
    "colab": {
     "base_uri": "https://localhost:8080/"
    },
    "id": "6PF6-XhkxkSn",
    "outputId": "cf6d3c4d-672e-499b-fa3d-4c6fda416ecb"
   },
   "outputs": [],
   "source": [
    "num_users = df['userID'].nunique()\n",
    "num_books = df['canonical_book_id'].nunique()\n",
    "print(f\"Number of unique users: {num_users}\")\n",
    "print(f\"Number of unique books: {num_books}\")\n"
   ]
  },
  {
   "cell_type": "code",
   "execution_count": null,
   "metadata": {
    "colab": {
     "base_uri": "https://localhost:8080/",
     "height": 472
    },
    "id": "WuLm5ZhzxrlR",
    "outputId": "b18f3657-2caf-4a94-9191-c2bd28c5f465"
   },
   "outputs": [],
   "source": [
    "import matplotlib.pyplot as plt\n",
    "\n",
    "df['rating'].hist(bins=5, edgecolor='black')\n",
    "plt.title('Distribution of Ratings')\n",
    "plt.xlabel('Rating')\n",
    "plt.ylabel('Frequency')\n",
    "plt.show()\n"
   ]
  },
  {
   "cell_type": "code",
   "execution_count": null,
   "metadata": {
    "colab": {
     "base_uri": "https://localhost:8080/"
    },
    "id": "COFzMMfUyFlk",
    "outputId": "b0e4ae77-30f5-446f-e764-f47cad23c054"
   },
   "outputs": [],
   "source": [
    "#Top 10 books with most ratings\n",
    "top_books = df.groupby('canonical_book_id').size().reset_index(name='rating_count')\n",
    "top_books = top_books.sort_values(by='rating_count', ascending=False).head(8)\n",
    "top_books = pd.merge(top_books, df[['canonical_book_id', 'bookTitle']].drop_duplicates(), on='canonical_book_id', how='left')\n",
    "print(top_books[['bookTitle', 'rating_count']])\n"
   ]
  },
  {
   "cell_type": "code",
   "execution_count": null,
   "metadata": {
    "colab": {
     "base_uri": "https://localhost:8080/",
     "height": 401
    },
    "id": "iOOFHP_zydE2",
    "outputId": "4f2000a3-b84e-496b-e163-51f44a1db3bc"
   },
   "outputs": [],
   "source": [
    "top_books.plot(kind='barh', x='bookTitle', y='rating_count', legend=False)\n",
    "plt.title('Top 10 Most Rated Books')\n",
    "plt.xlabel('Number of Ratings')\n",
    "plt.ylabel('Book Title')\n",
    "plt.gca().invert_yaxis()\n",
    "plt.show()\n"
   ]
  },
  {
   "cell_type": "code",
   "execution_count": null,
   "metadata": {
    "colab": {
     "base_uri": "https://localhost:8080/"
    },
    "id": "1SvLDmjdym47",
    "outputId": "c84a3a77-1034-4826-fa21-b27558e5a780"
   },
   "outputs": [],
   "source": [
    "#top 10 most engaged users\n",
    "top_users = df.groupby('userID').size().reset_index(name='rating_count')\n",
    "top_users = top_users.sort_values(by='rating_count', ascending=False).head(10)\n",
    "print(top_users)"
   ]
  },
  {
   "cell_type": "code",
   "execution_count": null,
   "metadata": {
    "colab": {
     "base_uri": "https://localhost:8080/",
     "height": 472
    },
    "id": "LQRPqq9VzYzw",
    "outputId": "9a74c47b-0268-4d2d-bbbf-51d83fb0e63d"
   },
   "outputs": [],
   "source": [
    "top_users.plot(kind='barh', x='userID', y='rating_count', legend=False)\n",
    "plt.title('Top 10 Most Active Users')\n",
    "plt.xlabel('Number of Ratings Given')\n",
    "plt.ylabel('User ID')\n",
    "plt.gca().invert_yaxis()\n",
    "plt.show()\n"
   ]
  },
  {
   "cell_type": "code",
   "execution_count": null,
   "metadata": {
    "colab": {
     "base_uri": "https://localhost:8080/",
     "height": 472
    },
    "id": "xBvUSLC2zfWV",
    "outputId": "5b11119f-3cd2-4a2b-e1dd-e33f3db6cfcb"
   },
   "outputs": [],
   "source": [
    "# rating frequency per user\n",
    "user_counts = df.groupby('userID').size()\n",
    "user_counts.hist(bins=50)\n",
    "plt.title('Number of Ratings per User')\n",
    "plt.xlabel('Number of Ratings')\n",
    "plt.ylabel('Frequency')\n",
    "plt.show()\n"
   ]
  },
  {
   "cell_type": "code",
   "execution_count": null,
   "metadata": {
    "colab": {
     "base_uri": "https://localhost:8080/",
     "height": 472
    },
    "id": "00GbUlNaz5IF",
    "outputId": "264d9795-b5cc-44e4-9b57-06d6a3f4d74a"
   },
   "outputs": [],
   "source": [
    "#ratings destribution per book\n",
    "book_counts = df.groupby('canonical_book_id').size()\n",
    "book_counts.hist(bins=50)\n",
    "plt.title('Number of Ratings per Book')\n",
    "plt.xlabel('Number of Ratings')\n",
    "plt.ylabel('Frequency')\n",
    "plt.show()"
   ]
  },
  {
   "cell_type": "markdown",
   "metadata": {
    "id": "1OZ9kFlm6wDb"
   },
   "source": [
    "top rated books with low number of ratings"
   ]
  },
  {
   "cell_type": "code",
   "execution_count": null,
   "metadata": {
    "id": "zibvFM3p0NFa"
   },
   "outputs": [],
   "source": [
    "#avarage rating per book\n",
    "avg_book_ratings = df.groupby('canonical_book_id')['rating'].mean().reset_index(name='average_rating')\n"
   ]
  },
  {
   "cell_type": "code",
   "execution_count": null,
   "metadata": {
    "id": "vNn6jGVb4y8Y"
   },
   "outputs": [],
   "source": [
    "# Merge with the number of ratings per book\n",
    "avg_book_ratings = pd.merge(avg_book_ratings, book_rating_counts, on='canonical_book_id', how='left')"
   ]
  },
  {
   "cell_type": "code",
   "execution_count": null,
   "metadata": {
    "id": "jX0m2Kik43wU"
   },
   "outputs": [],
   "source": [
    "# Filter books with at least 5 ratings\n",
    "popular_books = avg_book_ratings[avg_book_ratings['rating_count'] >= 5]"
   ]
  },
  {
   "cell_type": "code",
   "execution_count": null,
   "metadata": {
    "id": "T6g4V0I25MI5"
   },
   "outputs": [],
   "source": [
    "# Sort by average rating\n",
    "top_rated_books = popular_books.sort_values(by='average_rating', ascending=False).head(10)"
   ]
  },
  {
   "cell_type": "code",
   "execution_count": null,
   "metadata": {
    "id": "2mtIEc4r5SlH"
   },
   "outputs": [],
   "source": [
    "# Get book titles\n",
    "top_rated_books = pd.merge(top_rated_books, df[['canonical_book_id', 'bookTitle']].drop_duplicates(), on='canonical_book_id', how='left')"
   ]
  },
  {
   "cell_type": "code",
   "execution_count": null,
   "metadata": {
    "colab": {
     "base_uri": "https://localhost:8080/"
    },
    "id": "u5n078NY6KtW",
    "outputId": "8ae3564d-6a11-49c8-9608-321c0803691f"
   },
   "outputs": [],
   "source": [
    "print(top_rated_books[['bookTitle', 'average_rating', 'rating_count']])"
   ]
  },
  {
   "cell_type": "markdown",
   "metadata": {
    "id": "jnS1jduQ613V"
   },
   "source": [
    "correlation between Number of ratings and avarage ratings"
   ]
  },
  {
   "cell_type": "code",
   "execution_count": null,
   "metadata": {
    "colab": {
     "base_uri": "https://localhost:8080/",
     "height": 472
    },
    "id": "JeI1uExP61eF",
    "outputId": "2cd561fb-e6a0-4d2f-f1e4-48a28177f5f0"
   },
   "outputs": [],
   "source": [
    "plt.scatter(popular_books['rating_count'], popular_books['average_rating'], alpha=0.5)\n",
    "plt.title('Average Rating vs. Number of Ratings')\n",
    "plt.xlabel('Number of Ratings')\n",
    "plt.ylabel('Average Rating')\n",
    "plt.show()\n"
   ]
  },
  {
   "cell_type": "markdown",
   "metadata": {
    "id": "3aISqMgzAoQl"
   },
   "source": [
    "timebase analysis"
   ]
  },
  {
   "cell_type": "code",
   "execution_count": null,
   "metadata": {
    "id": "Ffk_HPHiBpLI"
   },
   "outputs": [],
   "source": [
    "df['timestamp'] = pd.to_datetime(df['timestamp'])\n",
    "df['year'] = df['timestamp'].dt.year"
   ]
  },
  {
   "cell_type": "code",
   "execution_count": null,
   "metadata": {
    "colab": {
     "base_uri": "https://localhost:8080/",
     "height": 472
    },
    "id": "i_IMsOPh7T_J",
    "outputId": "8e5d227a-9aae-4261-e3c1-8b5ce9d21dd5"
   },
   "outputs": [],
   "source": [
    "ratings_per_year = df.groupby('year').size().reset_index(name='num_ratings')\n",
    "plt.plot(ratings_per_year['year'], ratings_per_year['num_ratings'])\n",
    "plt.title('Number of Ratings Over Time')\n",
    "plt.xlabel('Year')\n",
    "plt.ylabel('Number of Ratings')\n",
    "plt.show()"
   ]
  },
  {
   "cell_type": "markdown",
   "metadata": {
    "id": "XmJX8Lk8B5RU"
   },
   "source": [
    "Heatmap of user-book interaction"
   ]
  },
  {
   "cell_type": "code",
   "execution_count": null,
   "metadata": {
    "id": "b-ViMc7EB1nf"
   },
   "outputs": [],
   "source": [
    " user_book_matrix = df.pivot_table(index='userID', columns='bookID', values='rating')"
   ]
  },
  {
   "cell_type": "code",
   "execution_count": null,
   "metadata": {
    "colab": {
     "base_uri": "https://localhost:8080/",
     "height": 547
    },
    "id": "VzjFDqdICFnu",
    "outputId": "c12987ce-c347-4c17-ea18-07223b5f169f"
   },
   "outputs": [],
   "source": [
    "import seaborn as sns\n",
    "\n",
    "# Select a subset for visualization (e.g., first 50 users and books)\n",
    "subset = user_book_matrix.iloc[:50, :50]\n",
    "sns.heatmap(subset, cmap='YlGnBu')\n",
    "plt.title('Heatmap of User-Book Ratings (First 50 users and books)')\n",
    "plt.xlabel('Book ID')\n",
    "plt.ylabel('User ID')\n",
    "plt.show()\n"
   ]
  },
  {
   "cell_type": "markdown",
   "metadata": {
    "id": "gevcnoWBC-Uq"
   },
   "source": [
    "Genre analysis"
   ]
  },
  {
   "cell_type": "code",
   "execution_count": null,
   "metadata": {
    "colab": {
     "base_uri": "https://localhost:8080/",
     "height": 472
    },
    "id": "oYmgFQwVDBoy",
    "outputId": "8d4558f6-8ad4-4ca3-e8c6-8a2f3083c109"
   },
   "outputs": [],
   "source": [
    "\n",
    "genre_counts = df['bookCategory'].value_counts().reset_index()\n",
    "genre_counts.columns = ['category', 'count']\n",
    "genre_counts.head(10).plot(kind='barh', x='category', y='count', legend=False)\n",
    "plt.title('Top 10 Categories')\n",
    "plt.xlabel('Number of Ratings')\n",
    "plt.ylabel('Category')\n",
    "plt.gca().invert_yaxis()\n",
    "plt.show()\n"
   ]
  },
  {
   "cell_type": "markdown",
   "metadata": {
    "id": "WrIk9zVeDs-C"
   },
   "source": [
    "word cloud of book titles"
   ]
  },
  {
   "cell_type": "code",
   "execution_count": null,
   "metadata": {
    "colab": {
     "base_uri": "https://localhost:8080/",
     "height": 636
    },
    "id": "73BqGM-qDFSa",
    "outputId": "2ac04579-13f5-4965-9084-ce718e3eef85"
   },
   "outputs": [],
   "source": [
    "from wordcloud import WordCloud\n",
    "\n",
    "text = ' '.join(df['bookTitle'].dropna().tolist())\n",
    "wordcloud = WordCloud(width=800, height=400, background_color='white').generate(text)\n",
    "\n",
    "plt.figure(figsize=(15, 7.5))\n",
    "plt.imshow(wordcloud, interpolation='bilinear')\n",
    "plt.axis('off')\n",
    "plt.title('Word Cloud of Book Titles')\n",
    "plt.show()\n"
   ]
  },
  {
   "cell_type": "markdown",
   "metadata": {
    "id": "CHeoz2fgEF85"
   },
   "source": [
    "user-rating patters"
   ]
  },
  {
   "cell_type": "code",
   "execution_count": null,
   "metadata": {
    "colab": {
     "base_uri": "https://localhost:8080/",
     "height": 472
    },
    "id": "ej-WozIVEIcp",
    "outputId": "6eae9de5-f47c-4ce3-fbeb-cb2dd9882f55"
   },
   "outputs": [],
   "source": [
    "avg_user_ratings = df.groupby('userID')['rating'].mean().reset_index(name='average_rating')\n",
    "avg_user_ratings['average_rating'].hist(bins=50)\n",
    "plt.title('Distribution of Average User Ratings')\n",
    "plt.xlabel('Average Rating')\n",
    "plt.ylabel('Number of Users')\n",
    "plt.show()\n"
   ]
  },
  {
   "cell_type": "markdown",
   "metadata": {
    "id": "7NAqlwYPYmx1"
   },
   "source": [
    "#Tags building"
   ]
  },
  {
   "cell_type": "code",
   "execution_count": null,
   "metadata": {
    "colab": {
     "base_uri": "https://localhost:8080/",
     "height": 236
    },
    "id": "D9N9ymbDYtzt",
    "outputId": "e056dc7b-e8f9-495e-b3be-ffb51bd20df9"
   },
   "outputs": [],
   "source": [
    "df.head(2)"
   ]
  },
  {
   "cell_type": "code",
   "execution_count": null,
   "metadata": {
    "colab": {
     "base_uri": "https://localhost:8080/",
     "height": 254
    },
    "id": "4MwI_oRkYqt1",
    "outputId": "6702a49f-2111-43a6-e733-a234019a2172"
   },
   "outputs": [],
   "source": [
    "import spacy\n",
    "from spacy.lang.en.stop_words import STOP_WORDS\n",
    "import re\n",
    "\n",
    "nlp = spacy.load('en_core_web_sm')\n",
    "\n",
    "# Function to expand common abbreviations in titles, publishers, etc.\n",
    "def expand_abbreviation(text):\n",
    "    abbreviations = {\n",
    "\n",
    "        \"intl\": \"international\",\n",
    "        \"inc\": \"incorporated\",\n",
    "        \"ltd\": \"limited\",\n",
    "        \"co\": \"company\",\n",
    "        \"sci-fi\": \"science fiction\",\n",
    "\n",
    "    }\n",
    "    for abbr, expanded in abbreviations.items():\n",
    "        text = re.sub(r'\\b' + re.escape(abbr) + r'\\b', expanded, text)\n",
    "    return text\n",
    "\n",
    "# Define separate cleaning functions for each column type\n",
    "def clean_description(text):\n",
    "    if not isinstance(text, str):\n",
    "        return ''\n",
    "    # Lowercase conversion\n",
    "    text = text.lower()\n",
    "    # Tokenize and remove stop words, punctuation, special characters\n",
    "    doc = nlp(text)\n",
    "    tokens = [\n",
    "        token.lemma_ for token in doc\n",
    "        if not token.is_stop and not token.is_punct and not token.like_num and len(token) > 2\n",
    "    ]\n",
    "    cleaned_text = ' '.join(tokens)\n",
    "    return cleaned_text\n",
    "\n",
    "def clean_publisher(text):\n",
    "    if not isinstance(text, str):\n",
    "        return ''\n",
    "    # Lowercase and expand abbreviations\n",
    "    text = text.lower()\n",
    "    text = expand_abbreviation(text)\n",
    "    # Tokenize and remove stop words, punctuation, special characters\n",
    "    doc = nlp(text)\n",
    "    tokens = [\n",
    "        token.lemma_ for token in doc\n",
    "        if not token.is_punct and not token.like_num\n",
    "    ]\n",
    "    cleaned_text = ' '.join(tokens)\n",
    "    return cleaned_text\n",
    "\n",
    "def clean_categories(text):\n",
    "    if not isinstance(text, str):\n",
    "        return ''\n",
    "    # Split categories based on delimiter and clean whitespace\n",
    "    tokens = text.split(\",\")  # Assume categories are comma-separated\n",
    "    tokens = [token.strip().lower() for token in tokens if token.strip()]\n",
    "    # Optionally, you can further process tokens (e.g., lemmatization)\n",
    "    cleaned_text = ' '.join(tokens)\n",
    "    return cleaned_text\n",
    "\n",
    "def clean_authors(text):\n",
    "    if not isinstance(text, str):\n",
    "        return ''\n",
    "    # Lowercase and expand abbreviations if needed\n",
    "    text = text.lower()\n",
    "    text = expand_abbreviation(text)\n",
    "    # Tokenize and remove stop words, punctuation, special characters\n",
    "    doc = nlp(text)\n",
    "    tokens = [\n",
    "        token.lemma_ for token in doc\n",
    "        if not token.is_punct and not token.like_num\n",
    "    ]\n",
    "    cleaned_text = ' '.join(tokens)\n",
    "    return cleaned_text\n",
    "\n",
    "# Apply column-specific cleaning functions\n",
    "df['description'] = df['description'].apply(clean_description)\n",
    "df['publisher'] = df['publisher'].apply(clean_publisher)\n",
    "df['categories'] = df['categories'].apply(clean_categories)\n",
    "df['authors'] = df['authors'].apply(clean_authors)\n",
    "\n",
    "# Example of how the dataset could be cleaned for tokenization and text normalization\n",
    "df.head(2)  # This will show the cleaned dataset for review\n"
   ]
  },
  {
   "cell_type": "code",
   "execution_count": null,
   "metadata": {
    "colab": {
     "base_uri": "https://localhost:8080/"
    },
    "id": "cZ3JvWpg1HKt",
    "outputId": "fe4eb850-159e-47e5-e321-184bc13973bc"
   },
   "outputs": [],
   "source": [
    "\n",
    "columns_to_combine = ['description', 'Title', 'authors', 'publisher', 'categories']\n",
    "\n",
    "# Combine the columns into a new 'combined_text' column\n",
    "df['tags'] = df[columns_to_combine].agg(' '.join, axis=1)\n",
    "\n",
    "# Remove extra whitespace\n",
    "df['tags'] = df['tags'].str.replace('\\s+', ' ', regex=True).str.strip()\n",
    "\n",
    "# Display the DataFrame to verify\n",
    "print(df[['tags']].head())\n"
   ]
  },
  {
   "cell_type": "markdown",
   "metadata": {
    "id": "-ergLjmjIsua"
   },
   "source": [
    "# Rating Based Recommendations"
   ]
  },
  {
   "cell_type": "code",
   "execution_count": 148,
   "metadata": {},
   "outputs": [],
   "source": [
    "df = pd.read_csv('newwww.csv')"
   ]
  },
  {
   "cell_type": "code",
   "execution_count": 150,
   "metadata": {
    "colab": {
     "base_uri": "https://localhost:8080/"
    },
    "id": "EXjjeqW-3lnm",
    "outputId": "349ea48f-547e-431e-ffcb-fed34b4bed0a"
   },
   "outputs": [
    {
     "data": {
      "text/plain": [
       "Index(['userID', 'canonical_book_id', 'userName', 'bookID', 'rating',\n",
       "       'bookTitle', 'bookAuthor', 'bookCategory', 'bookPublisher',\n",
       "       'description', 'image', 'Title', 'authors', 'publishedDate', 'Price',\n",
       "       'publisher', 'categories', 'timestamp', 'rating_count',\n",
       "       'rated_books_count', 'tags', 'average_ratings', 'weighted_rating'],\n",
       "      dtype='object')"
      ]
     },
     "execution_count": 150,
     "metadata": {},
     "output_type": "execute_result"
    }
   ],
   "source": [
    "df.columns"
   ]
  },
  {
   "cell_type": "markdown",
   "metadata": {
    "id": "jJbaWf0B2kGM"
   },
   "source": [
    "**Weighted rating formula for most popular books with highest rating**\n",
    "\n",
    "`Weighted Rating (WR) = (v/(v+m)) * R + (m/(v+m)) * C`\n",
    "\n",
    "Where:\n",
    "\n",
    "*   R = average rating for the book\n",
    "*   v = number of ratings for the book\n",
    "*   m = minimum number of ratings required to be\n",
    "     considered\n",
    "*   C = the mean rating across all books"
   ]
  },
  {
   "cell_type": "code",
   "execution_count": 153,
   "metadata": {
    "id": "emM_fNuD7yr5"
   },
   "outputs": [],
   "source": [
    "# Calculate the average rating for each book\n",
    "#avrg_ratings = df.groupby('bookID')['rating'].mean()\n",
    "\n",
    "# Merge the results back to the original dataframe\n",
    "#df = df.merge(avrg_ratings.rename('average_ratings'), on='bookID', how='left')"
   ]
  },
  {
   "cell_type": "code",
   "execution_count": 155,
   "metadata": {
    "colab": {
     "base_uri": "https://localhost:8080/"
    },
    "id": "6FE1Qy-d7_kM",
    "outputId": "5ad7d056-e232-4632-a5c9-11054df41fd6"
   },
   "outputs": [
    {
     "name": "stdout",
     "output_type": "stream",
     "text": [
      "4.3131\n"
     ]
    }
   ],
   "source": [
    "# Calculate the overall average rating for all books (C)\n",
    "C = df['average_ratings'].mean()\n",
    "print(C)"
   ]
  },
  {
   "cell_type": "code",
   "execution_count": 157,
   "metadata": {
    "id": "MWJoPA1p2gq8"
   },
   "outputs": [],
   "source": [
    "\n",
    "\n",
    "# Set the minimum number of ratings required to be considered (m)\n",
    "m = df['rating_count'].quantile(0.90)  # For example, taking the top 10% as the threshold\n",
    "\n",
    "\n",
    "# Apply the weighted rating formula to get the weighted score (WR)\n",
    "#df['weighted_rating'] = (df['rating_count'] / (df['rating_count'] + m)) * df['average_ratings'] + (m / (df['rating_count'] + m)) * C\n",
    "\n",
    "# Sort the books by weighted rating and drop duplicates\n",
    "rating_based_recommendations = df.sort_values(by='weighted_rating', ascending=False).drop_duplicates(subset='bookID').head(10)\n",
    "# Select and display the relevant columns\n",
    "final_columns = ['bookTitle','bookAuthor','bookCategory', 'Price', 'weighted_rating', 'image' ]\n",
    "rating_based_recommendations= rating_based_recommendations[final_columns]\n"
   ]
  },
  {
   "cell_type": "markdown",
   "metadata": {
    "id": "N7hqsj4RF11a"
   },
   "source": [
    "**Breakdown of the Code:**\n",
    "*   rating_count: Counts how many ratings each book received.\n",
    "*   average_ratings: Calculates the average rating of each book.\n",
    "*   C: The global average rating for all books.\n",
    "*   m: The minimum number of ratings needed to give more confidence to a rating (set at the 90th percentile of the rating counts).\n",
    "* weighted_rating: Uses the weighted formula to give a better ranking to books that have more ratings and a good rating score.  \n",
    "* rating_based_recommendations: The books are sorted based on the weighted rating, and then the top 10 are selected."
   ]
  },
  {
   "cell_type": "code",
   "execution_count": 160,
   "metadata": {
    "colab": {
     "base_uri": "https://localhost:8080/",
     "height": 710
    },
    "id": "bEs4COpJ8SSW",
    "outputId": "be3f7bb7-91d9-4d26-98b4-68e99e618ecf"
   },
   "outputs": [
    {
     "name": "stdout",
     "output_type": "stream",
     "text": [
      "Rating Base Recommendation System: \n"
     ]
    },
    {
     "data": {
      "text/html": [
       "<div>\n",
       "<style scoped>\n",
       "    .dataframe tbody tr th:only-of-type {\n",
       "        vertical-align: middle;\n",
       "    }\n",
       "\n",
       "    .dataframe tbody tr th {\n",
       "        vertical-align: top;\n",
       "    }\n",
       "\n",
       "    .dataframe thead th {\n",
       "        text-align: right;\n",
       "    }\n",
       "</style>\n",
       "<table border=\"1\" class=\"dataframe\">\n",
       "  <thead>\n",
       "    <tr style=\"text-align: right;\">\n",
       "      <th></th>\n",
       "      <th>bookTitle</th>\n",
       "      <th>bookAuthor</th>\n",
       "      <th>bookCategory</th>\n",
       "      <th>Price</th>\n",
       "      <th>weighted_rating</th>\n",
       "      <th>image</th>\n",
       "    </tr>\n",
       "  </thead>\n",
       "  <tbody>\n",
       "    <tr>\n",
       "      <th>7552</th>\n",
       "      <td>Night</td>\n",
       "      <td>Clement Moore</td>\n",
       "      <td>['Juvenile Fiction']</td>\n",
       "      <td>40.68</td>\n",
       "      <td>4.600841</td>\n",
       "      <td>http://books.google.com/books/content?id=LSSyD...</td>\n",
       "    </tr>\n",
       "    <tr>\n",
       "      <th>3325</th>\n",
       "      <td>George Orwell 1984</td>\n",
       "      <td>George Orwell</td>\n",
       "      <td>['Fiction']</td>\n",
       "      <td>5.13</td>\n",
       "      <td>4.593366</td>\n",
       "      <td>http://books.google.com/books/content?id=PEpoE...</td>\n",
       "    </tr>\n",
       "    <tr>\n",
       "      <th>2456</th>\n",
       "      <td>Nineteen Eighty-Four</td>\n",
       "      <td>George Orwell</td>\n",
       "      <td>['Totalitarianism']</td>\n",
       "      <td>24.49</td>\n",
       "      <td>4.582728</td>\n",
       "      <td>http://books.google.com/books/content?id=h7BUN...</td>\n",
       "    </tr>\n",
       "    <tr>\n",
       "      <th>544</th>\n",
       "      <td>Moby-Dick: Or, the Whale</td>\n",
       "      <td>Herman Melville</td>\n",
       "      <td>['Fiction']</td>\n",
       "      <td>10.88</td>\n",
       "      <td>4.574315</td>\n",
       "      <td>http://books.google.com/books/content?id=xJFPE...</td>\n",
       "    </tr>\n",
       "    <tr>\n",
       "      <th>1209</th>\n",
       "      <td>1984</td>\n",
       "      <td>George Orwell</td>\n",
       "      <td>['Fiction']</td>\n",
       "      <td>16.74</td>\n",
       "      <td>4.554396</td>\n",
       "      <td>http://books.google.com/books/content?id=gTx1A...</td>\n",
       "    </tr>\n",
       "    <tr>\n",
       "      <th>1937</th>\n",
       "      <td>The Hobbit</td>\n",
       "      <td>J. R. R. Tolkien</td>\n",
       "      <td>['Juvenile Fiction']</td>\n",
       "      <td>34.80</td>\n",
       "      <td>4.551917</td>\n",
       "      <td>http://books.google.com/books/content?id=LLSpn...</td>\n",
       "    </tr>\n",
       "    <tr>\n",
       "      <th>7633</th>\n",
       "      <td>The Lord of the Rings - Boxed Set</td>\n",
       "      <td>j.r.r. Tolkien</td>\n",
       "      <td>['Young Adult Fiction']</td>\n",
       "      <td>6.87</td>\n",
       "      <td>4.544882</td>\n",
       "      <td>http://books.google.com/books/content?id=CixXE...</td>\n",
       "    </tr>\n",
       "    <tr>\n",
       "      <th>322</th>\n",
       "      <td>John Adams</td>\n",
       "      <td>David McCullough</td>\n",
       "      <td>['Biography', 'Autobiography']</td>\n",
       "      <td>29.94</td>\n",
       "      <td>4.522205</td>\n",
       "      <td>http://books.google.com/books/content?id=GHMnz...</td>\n",
       "    </tr>\n",
       "    <tr>\n",
       "      <th>6252</th>\n",
       "      <td>Harry Potter and the Sorcerer's Stone</td>\n",
       "      <td>J. K. Rowling</td>\n",
       "      <td>['Juvenile Fiction']</td>\n",
       "      <td>30.54</td>\n",
       "      <td>4.517416</td>\n",
       "      <td>http://books.google.com/books/content?id=HksgD...</td>\n",
       "    </tr>\n",
       "    <tr>\n",
       "      <th>474</th>\n",
       "      <td>Harry Potter and the Chamber of Secrets</td>\n",
       "      <td>J. K. Rowling</td>\n",
       "      <td>['Juvenile Fiction']</td>\n",
       "      <td>22.73</td>\n",
       "      <td>4.514026</td>\n",
       "      <td>http://books.google.com/books/content?id=nmXTy...</td>\n",
       "    </tr>\n",
       "  </tbody>\n",
       "</table>\n",
       "</div>"
      ],
      "text/plain": [
       "                                    bookTitle        bookAuthor  \\\n",
       "7552                                    Night     Clement Moore   \n",
       "3325                       George Orwell 1984     George Orwell   \n",
       "2456                     Nineteen Eighty-Four     George Orwell   \n",
       "544                  Moby-Dick: Or, the Whale   Herman Melville   \n",
       "1209                                     1984     George Orwell   \n",
       "1937                               The Hobbit  J. R. R. Tolkien   \n",
       "7633        The Lord of the Rings - Boxed Set    j.r.r. Tolkien   \n",
       "322                                John Adams  David McCullough   \n",
       "6252    Harry Potter and the Sorcerer's Stone     J. K. Rowling   \n",
       "474   Harry Potter and the Chamber of Secrets     J. K. Rowling   \n",
       "\n",
       "                        bookCategory  Price  weighted_rating  \\\n",
       "7552            ['Juvenile Fiction']  40.68         4.600841   \n",
       "3325                     ['Fiction']   5.13         4.593366   \n",
       "2456             ['Totalitarianism']  24.49         4.582728   \n",
       "544                      ['Fiction']  10.88         4.574315   \n",
       "1209                     ['Fiction']  16.74         4.554396   \n",
       "1937            ['Juvenile Fiction']  34.80         4.551917   \n",
       "7633         ['Young Adult Fiction']   6.87         4.544882   \n",
       "322   ['Biography', 'Autobiography']  29.94         4.522205   \n",
       "6252            ['Juvenile Fiction']  30.54         4.517416   \n",
       "474             ['Juvenile Fiction']  22.73         4.514026   \n",
       "\n",
       "                                                  image  \n",
       "7552  http://books.google.com/books/content?id=LSSyD...  \n",
       "3325  http://books.google.com/books/content?id=PEpoE...  \n",
       "2456  http://books.google.com/books/content?id=h7BUN...  \n",
       "544   http://books.google.com/books/content?id=xJFPE...  \n",
       "1209  http://books.google.com/books/content?id=gTx1A...  \n",
       "1937  http://books.google.com/books/content?id=LLSpn...  \n",
       "7633  http://books.google.com/books/content?id=CixXE...  \n",
       "322   http://books.google.com/books/content?id=GHMnz...  \n",
       "6252  http://books.google.com/books/content?id=HksgD...  \n",
       "474   http://books.google.com/books/content?id=nmXTy...  "
      ]
     },
     "execution_count": 160,
     "metadata": {},
     "output_type": "execute_result"
    }
   ],
   "source": [
    "print(\"Rating Base Recommendation System: \")\n",
    "rating_based_recommendations.head(10)"
   ]
  },
  {
   "cell_type": "code",
   "execution_count": 162,
   "metadata": {},
   "outputs": [],
   "source": [
    "highest_rated = rating_based_recommendations.to_csv(\"highest_rated.csv\", index=False)"
   ]
  },
  {
   "cell_type": "markdown",
   "metadata": {
    "id": "Yl52U513GVZs"
   },
   "source": [
    "# Content Based Recommendations"
   ]
  },
  {
   "cell_type": "code",
   "execution_count": 165,
   "metadata": {
    "colab": {
     "base_uri": "https://localhost:8080/"
    },
    "id": "rzEWg4RZGSB0",
    "outputId": "3c0646e2-c255-4dbc-83d6-79420bdef783"
   },
   "outputs": [
    {
     "data": {
      "text/plain": [
       "Index(['userID', 'canonical_book_id', 'userName', 'bookID', 'rating',\n",
       "       'bookTitle', 'bookAuthor', 'bookCategory', 'bookPublisher',\n",
       "       'description', 'image', 'Title', 'authors', 'publishedDate', 'Price',\n",
       "       'publisher', 'categories', 'timestamp', 'rating_count',\n",
       "       'rated_books_count', 'tags', 'average_ratings', 'weighted_rating'],\n",
       "      dtype='object')"
      ]
     },
     "execution_count": 165,
     "metadata": {},
     "output_type": "execute_result"
    }
   ],
   "source": [
    "df.columns"
   ]
  },
  {
   "cell_type": "code",
   "execution_count": 167,
   "metadata": {
    "id": "CkFa4TKlGp9A"
   },
   "outputs": [],
   "source": [
    "dfc=df.copy()"
   ]
  },
  {
   "cell_type": "code",
   "execution_count": 169,
   "metadata": {
    "colab": {
     "base_uri": "https://localhost:8080/"
    },
    "id": "gmcYg-zmHHf4",
    "outputId": "fd93ffea-9143-4a51-856a-7432a20b5c01"
   },
   "outputs": [
    {
     "name": "stderr",
     "output_type": "stream",
     "text": [
      "[nltk_data] Downloading package stopwords to C:\\Users\\D E L\n",
      "[nltk_data]     L\\AppData\\Roaming\\nltk_data...\n",
      "[nltk_data]   Package stopwords is already up-to-date!\n"
     ]
    },
    {
     "data": {
      "text/plain": [
       "True"
      ]
     },
     "execution_count": 169,
     "metadata": {},
     "output_type": "execute_result"
    }
   ],
   "source": [
    "from sklearn.feature_extraction.text import TfidfVectorizer\n",
    "from sklearn.metrics.pairwise import cosine_similarity\n",
    "import string\n",
    "from nltk.corpus import stopwords\n",
    "import nltk\n",
    "\n",
    "nltk.download('stopwords')"
   ]
  },
  {
   "cell_type": "code",
   "execution_count": 170,
   "metadata": {
    "id": "xXQ1VQMNH0sg"
   },
   "outputs": [],
   "source": [
    "# Compute TF-IDF and cosine similarity\n",
    "def compute_similarity(text_data):\n",
    "    tfidf_vectorizer = TfidfVectorizer(stop_words='english')\n",
    "    tfidf_matrix_content = tfidf_vectorizer.fit_transform(text_data)\n",
    "    cosine_similarities_content = cosine_similarity(tfidf_matrix_content, tfidf_matrix_content)\n",
    "    return cosine_similarities_content"
   ]
  },
  {
   "cell_type": "code",
   "execution_count": 171,
   "metadata": {
    "id": "2j5LoxmfH9aQ"
   },
   "outputs": [],
   "source": [
    "cosine_similarities_content = compute_similarity(df['tags'])"
   ]
  },
  {
   "cell_type": "code",
   "execution_count": 172,
   "metadata": {
    "colab": {
     "base_uri": "https://localhost:8080/"
    },
    "id": "e39sJ8a4IDxI",
    "outputId": "ca03307e-6510-414c-8f90-cf15c57f9f00"
   },
   "outputs": [
    {
     "data": {
      "text/plain": [
       "array([[1.        , 0.0136235 , 0.01225344, ..., 0.05493275, 0.03175353,\n",
       "        0.01076612],\n",
       "       [0.0136235 , 1.        , 0.01313919, ..., 0.        , 0.04691696,\n",
       "        0.01467168],\n",
       "       [0.01225344, 0.01313919, 1.        , ..., 0.01717518, 0.0294293 ,\n",
       "        0.03010292],\n",
       "       ...,\n",
       "       [0.05493275, 0.        , 0.01717518, ..., 1.        , 0.01795643,\n",
       "        0.04391316],\n",
       "       [0.03175353, 0.04691696, 0.0294293 , ..., 0.01795643, 1.        ,\n",
       "        0.01999064],\n",
       "       [0.01076612, 0.01467168, 0.03010292, ..., 0.04391316, 0.01999064,\n",
       "        1.        ]])"
      ]
     },
     "execution_count": 172,
     "metadata": {},
     "output_type": "execute_result"
    }
   ],
   "source": [
    "cosine_similarities_content"
   ]
  },
  {
   "cell_type": "code",
   "execution_count": 174,
   "metadata": {
    "id": "tikpDZAiTOoL"
   },
   "outputs": [],
   "source": [
    "stop_words = set(stopwords.words('english'))\n",
    "# Text preprocessing function\n",
    "def preprocess_text(text):\n",
    "    # Lowercase\n",
    "    text = text.lower()\n",
    "    # Remove punctuation\n",
    "    text = text.translate(str.maketrans('', '', string.punctuation))\n",
    "    # Remove stopwords\n",
    "    text = ' '.join([word for word in text.split() if word not in stop_words])\n",
    "    return text"
   ]
  },
  {
   "cell_type": "code",
   "execution_count": 202,
   "metadata": {
    "id": "bFs3Yg-bII5N"
   },
   "outputs": [],
   "source": [
    "def contentBased_recommendations(title, cosine_similarities, df, top_n=10):\n",
    "    # Preprocess the input title\n",
    "    input_title = preprocess_text(title)\n",
    "\n",
    "\n",
    "    if not input_title:\n",
    "        print(f\"Title '{title}' not found in the dataset.\")\n",
    "        return pd.DataFrame()\n",
    "\n",
    "    # Create a temporary column for processed titles\n",
    "    df['processed_title'] = df['bookTitle'].apply(preprocess_text)\n",
    "\n",
    "    # Find the index of the input title\n",
    "    idx_list = df[df['processed_title'] == input_title].index.tolist()\n",
    "    if not idx_list:\n",
    "        print(f\"Title '{title}' not found in the dataset.\")\n",
    "        df.drop('processed_title', axis=1, inplace=True)\n",
    "        return pd.DataFrame()\n",
    "\n",
    "    # use the first occurrence\n",
    "    idx = idx_list[0]\n",
    "\n",
    "    # Get similarity scores for all books\n",
    "    sim_scores = list(enumerate(cosine_similarities[idx]))\n",
    "\n",
    "    # Exclude the book itself and any other books with the same normalized title\n",
    "    sim_scores = [score for score in sim_scores if score[0] not in idx_list]\n",
    "\n",
    "    # Sort the books based on similarity scores\n",
    "    sim_scores = sorted(sim_scores, key=lambda x: x[1], reverse=True)\n",
    "\n",
    "   # Keep track of unique book titles\n",
    "    unique_titles = set()\n",
    "    filtered_sim_scores = []\n",
    "    for i, score in sim_scores:\n",
    "        book_title = df.iloc[i]['Title']\n",
    "        if book_title not in unique_titles:\n",
    "            unique_titles.add(book_title)\n",
    "            filtered_sim_scores.append((i, score))\n",
    "        # Stop if we have enough recommendations\n",
    "        if len(filtered_sim_scores) >= top_n:\n",
    "            break\n",
    "\n",
    "    # Get the indices and scores of the top_n unique similar books\n",
    "    book_indices = [i for i, _ in filtered_sim_scores]\n",
    "    similarity_scores = [score for _, score in filtered_sim_scores]\n",
    "\n",
    "    # Get the recommended books with their scores\n",
    "    recommendations = df.iloc[book_indices].copy()\n",
    "    recommendations['score_content'] = similarity_scores\n",
    "\n",
    "    # Drop the temporary column\n",
    "    df.drop('processed_title', axis=1, inplace=True)\n",
    "\n",
    "    return recommendations"
   ]
  },
  {
   "cell_type": "markdown",
   "metadata": {
    "id": "ZSU4hjS9Xm3V"
   },
   "source": [
    "**GET CONTENT_BASED RECOMMENDATIONS FOR A SPECIFIC BOOK**"
   ]
  },
  {
   "cell_type": "code",
   "execution_count": 205,
   "metadata": {
    "colab": {
     "base_uri": "https://localhost:8080/"
    },
    "id": "lsef9hm8JHNP",
    "outputId": "dcf72a2b-03d9-4135-e8be-2b747453a2b2"
   },
   "outputs": [
    {
     "name": "stdout",
     "output_type": "stream",
     "text": [
      "Recommendations for 'The Hobbit':\n",
      "         bookID                                                         bookTitle                 bookAuthor             bookCategory  Price  weighted_rating                                                                                                            image\n",
      "509  B000GQK706                                 The Lord of the Rings - Boxed Set             j.r.r. Tolkien  ['Young Adult Fiction']   6.87         4.544882            http://books.google.com/books/content?id=CixXEAAAQBAJ&printsec=frontcover&img=1&zoom=1&source=gbs_api\n",
      "28   B000Q08CDQ  Return of the King Being the Third Part of the Lord of the Rings           J. R. R. Tolkien              ['Fiction']  38.77         4.415748            http://books.google.com/books/content?id=1EcBuwAACAAJ&printsec=frontcover&img=1&zoom=1&source=gbs_api\n",
      "108  B000NWU3I4  The Hobbitt, or There and Back Again; Illustrated by the Author.           J. R. R. Tolkien              ['Fiction']  39.31         4.512156            http://books.google.com/books/content?id=Wbm1mQEACAAJ&printsec=frontcover&img=1&zoom=1&source=gbs_api\n",
      "430  B000I1V604                                   One Flew Over the Cuckoo's Nest                  Ken Kesey              ['Fiction']  15.80         4.399619  http://books.google.com/books/content?id=KhRvDQAAQBAJ&printsec=frontcover&img=1&zoom=1&edge=curl&source=gbs_api\n",
      "12   B000JW6ZMG                        Travels With Charley, in Search of America             John Steinbeck               ['Travel']  11.95         4.302845  http://books.google.com/books/content?id=Rh6MDQAAQBAJ&printsec=frontcover&img=1&zoom=1&edge=curl&source=gbs_api\n",
      "208   143057804                  The Shadow of the Wind Bestseller's Choice Audio          Carlos Ruiz Zafon              ['Fiction']   8.19         4.310096  http://books.google.com/books/content?id=GKlCDwAAQBAJ&printsec=frontcover&img=1&zoom=1&edge=curl&source=gbs_api\n",
      "88   B000TNGU5M                                                             Night              Clement Moore     ['Juvenile Fiction']  40.68         4.600841  http://books.google.com/books/content?id=LSSyDwAAQBAJ&printsec=frontcover&img=1&zoom=1&edge=curl&source=gbs_api\n",
      "872  B0007GZPJI                                                 Lord of the Flies            William Golding              ['Fiction']  34.75         4.486095  http://books.google.com/books/content?id=r6eoCwAAQBAJ&printsec=frontcover&img=1&zoom=1&edge=curl&source=gbs_api\n",
      "32   B0007C4L2Y                                        Lord of the Flies: A Novel            William Golding              ['Fiction']  31.27         4.339163  http://books.google.com/books/content?id=3C-4dsIGlEgC&printsec=frontcover&img=1&zoom=1&edge=curl&source=gbs_api\n",
      "192  B000Q9I494                                Fellowship of the Ring 2nd Edition  John Ronald Reuel Tolkien    ['Adventure Stories']  13.35         4.404953            http://books.google.com/books/content?id=5QRZ4z6A1WwC&printsec=frontcover&img=1&zoom=1&source=gbs_api\n"
     ]
    }
   ],
   "source": [
    "\n",
    "\n",
    "# Get recommendations as a DataFrame\n",
    "title = 'The Hobbit'  # Replace with an actual title from your dataset\n",
    "recommendations_df = contentBased_recommendations(title, cosine_similarities_content, df)\n",
    "\n",
    "# Select desired columns\n",
    "desired_columns = ['bookID','bookTitle','bookAuthor','bookCategory', 'Price', 'weighted_rating', 'image']\n",
    "recommendations_df = recommendations_df[desired_columns]\n",
    "\n",
    "# Check if recommendations are found\n",
    "if recommendations_df.empty:\n",
    "    print(f\"No recommendations found for '{title}'.\")\n",
    "else:\n",
    "    # Display the DataFrame\n",
    "    print(f\"Recommendations for '{title}':\")\n",
    "      # Display up to 10 recommendations\n",
    "    print(recommendations_df.head(10).to_string())\n"
   ]
  },
  {
   "cell_type": "markdown",
   "metadata": {
    "id": "FZvXmYX7X1lO"
   },
   "source": [
    "# Collaborative Filtering Recommendations"
   ]
  },
  {
   "cell_type": "code",
   "execution_count": 185,
   "metadata": {
    "colab": {
     "base_uri": "https://localhost:8080/"
    },
    "id": "11asKuJWYkhH",
    "outputId": "a57e12ef-3087-438e-c333-707923bdb22a"
   },
   "outputs": [
    {
     "data": {
      "text/plain": [
       "Index(['userID', 'canonical_book_id', 'userName', 'bookID', 'rating',\n",
       "       'bookTitle', 'bookAuthor', 'bookCategory', 'bookPublisher',\n",
       "       'description', 'image', 'Title', 'authors', 'publishedDate', 'Price',\n",
       "       'publisher', 'categories', 'timestamp', 'rating_count',\n",
       "       'rated_books_count', 'tags', 'average_ratings', 'weighted_rating'],\n",
       "      dtype='object')"
      ]
     },
     "execution_count": 185,
     "metadata": {},
     "output_type": "execute_result"
    }
   ],
   "source": [
    "df.columns"
   ]
  },
  {
   "cell_type": "code",
   "execution_count": 187,
   "metadata": {
    "id": "O42orcsUX7gH"
   },
   "outputs": [],
   "source": [
    "from surprise import SVD, Dataset, Reader\n",
    "\n",
    "def collaborative_filtering_recommendations(df, target_user_id, top_n=10):\n",
    "    # Prepare the data\n",
    "    reader = Reader(rating_scale=(df['rating'].min(), df['rating'].max()))\n",
    "    data = Dataset.load_from_df(df[['userID', 'bookID', 'rating']], reader)\n",
    "    trainset = data.build_full_trainset()\n",
    "\n",
    "    # Build the model\n",
    "    algo = SVD()\n",
    "    algo.fit(trainset)\n",
    "\n",
    "    # Get a list of all book IDs\n",
    "    all_book_ids = df['bookID'].unique()\n",
    "\n",
    "    # Predict ratings for all books not rated by the user\n",
    "    user_rated_books = df[df['userID'] == target_user_id]['bookID'].unique()\n",
    "    books_to_predict = [iid for iid in all_book_ids if iid not in user_rated_books]\n",
    "\n",
    "    predictions = [algo.predict(target_user_id, iid) for iid in books_to_predict]\n",
    "\n",
    "    # Get top N recommendations\n",
    "    predictions.sort(key=lambda x: x.est, reverse=True)\n",
    "    top_predictions = predictions[:top_n]\n",
    "    top_book_ids = [pred.iid for pred in top_predictions]\n",
    "    scores = [pred.est for pred in top_predictions]\n",
    "\n",
    "    # Get book details\n",
    "    recommendations = df[df['bookID'].isin(top_book_ids)].drop_duplicates('bookID')\n",
    "    recommendations = recommendations[['bookID','bookTitle','bookAuthor','bookCategory', 'Price', 'weighted_rating', 'image']].copy()\n",
    "    recommendations['score_collaborative'] = scores\n",
    "\n",
    "    return recommendations\n"
   ]
  },
  {
   "cell_type": "markdown",
   "metadata": {
    "id": "FV-BVgLEZe-d"
   },
   "source": [
    "**COLLABORATIVE FILTERING TEST**"
   ]
  },
  {
   "cell_type": "markdown",
   "metadata": {
    "id": "9Nh1NZ_vZlRB"
   },
   "source": [
    "EVALUATION"
   ]
  },
  {
   "cell_type": "code",
   "execution_count": 191,
   "metadata": {
    "colab": {
     "base_uri": "https://localhost:8080/"
    },
    "id": "JDvnAmQ0ZnyM",
    "outputId": "84a8f764-46e2-4d38-bbe4-de7feba27340"
   },
   "outputs": [
    {
     "name": "stdout",
     "output_type": "stream",
     "text": [
      "Evaluating RMSE, MAE of algorithm SVD on 5 split(s).\n",
      "\n",
      "                  Fold 1  Fold 2  Fold 3  Fold 4  Fold 5  Mean    Std     \n",
      "RMSE (testset)    0.8684  0.8591  0.8545  0.8266  0.8739  0.8565  0.0164  \n",
      "MAE (testset)     0.6568  0.6522  0.6504  0.6383  0.6573  0.6510  0.0069  \n",
      "Fit time          0.12    0.08    0.07    0.07    0.08    0.08    0.02    \n",
      "Test time         0.01    0.01    0.01    0.01    0.01    0.01    0.00    \n",
      "Average RMSE: 0.8565152638485873\n",
      "Average MAE: 0.6510054033868172\n",
      "Average Precision@10: 0.7893\n",
      "Average Recall@10: 0.7895\n"
     ]
    }
   ],
   "source": [
    "from surprise import Dataset, Reader, SVD\n",
    "from surprise.model_selection import cross_validate, KFold\n",
    "from collections import defaultdict\n",
    "\n",
    "# Load data\n",
    "reader = Reader(rating_scale=(df['rating'].min(), df['rating'].max()))\n",
    "data = Dataset.load_from_df(df[['userID', 'bookID', 'rating']], reader)\n",
    "\n",
    "# Define algorithm\n",
    "algo = SVD()\n",
    "\n",
    "# Step 3: Evaluate with RMSE and MAE using cross-validation\n",
    "cv_results = cross_validate(algo, data, measures=['RMSE', 'MAE'], cv=5, verbose=True)\n",
    "print(\"Average RMSE:\", cv_results['test_rmse'].mean())\n",
    "print(\"Average MAE:\", cv_results['test_mae'].mean())\n",
    "\n",
    "# Step 4: Compute Precision@K and Recall@K\n",
    "def precision_recall_at_k(predictions, k=10, threshold=4.0):\n",
    "    '''Return precision and recall at k metrics for each user.'''\n",
    "\n",
    "    # Map the predictions to each user.\n",
    "    user_est_true = defaultdict(list)\n",
    "    for uid, iid, true_r, est, _ in predictions:\n",
    "        user_est_true[uid].append((est, true_r))\n",
    "\n",
    "    precisions = dict()\n",
    "    recalls = dict()\n",
    "    for uid, user_ratings in user_est_true.items():\n",
    "\n",
    "        # Sort user ratings by estimated value\n",
    "        user_ratings.sort(key=lambda x: x[0], reverse=True)\n",
    "\n",
    "        # Number of relevant items\n",
    "        n_rel = sum((true_r >= threshold) for (_, true_r) in user_ratings)\n",
    "\n",
    "        # Number of recommended items in top k\n",
    "        n_rec_k = sum((est >= threshold) for (est, _) in user_ratings[:k])\n",
    "\n",
    "        # Number of relevant and recommended items in top k\n",
    "        n_rel_and_rec_k = sum(((true_r >= threshold) and (est >= threshold))\n",
    "                              for (est, true_r) in user_ratings[:k])\n",
    "\n",
    "        # Precision@K: Proportion of recommended items that are relevant\n",
    "        precisions[uid] = n_rel_and_rec_k / n_rec_k if n_rec_k != 0 else 0\n",
    "\n",
    "        # Recall@K: Proportion of relevant items that are recommended\n",
    "        recalls[uid] = n_rel_and_rec_k / n_rel if n_rel != 0 else 0\n",
    "\n",
    "    return precisions, recalls\n",
    "\n",
    "kf = KFold(n_splits=5)\n",
    "\n",
    "precisions_list = []\n",
    "recalls_list = []\n",
    "\n",
    "for trainset, testset in kf.split(data):\n",
    "    # Train the algorithm\n",
    "    algo.fit(trainset)\n",
    "\n",
    "    # Test the algorithm\n",
    "    predictions = algo.test(testset)\n",
    "\n",
    "    # Compute precision and recall\n",
    "    precisions, recalls = precision_recall_at_k(predictions, k=10, threshold=4.0)\n",
    "\n",
    "    # Average precision and recall for this fold\n",
    "    precision = sum(prec for prec in precisions.values()) / len(precisions)\n",
    "    recall = sum(rec for rec in recalls.values()) / len(recalls)\n",
    "\n",
    "    precisions_list.append(precision)\n",
    "    recalls_list.append(recall)\n",
    "\n",
    "# Compute overall average precision and recall\n",
    "avg_precision = sum(precisions_list) / len(precisions_list)\n",
    "avg_recall = sum(recalls_list) / len(recalls_list)\n",
    "\n",
    "print(f'Average Precision@10: {avg_precision:.4f}')\n",
    "print(f'Average Recall@10: {avg_recall:.4f}')\n"
   ]
  },
  {
   "cell_type": "markdown",
   "metadata": {
    "id": "aR1ACMhnZ9Du"
   },
   "source": [
    "TESTING"
   ]
  },
  {
   "cell_type": "code",
   "execution_count": 194,
   "metadata": {
    "colab": {
     "base_uri": "https://localhost:8080/",
     "height": 537
    },
    "id": "SJ2OZmMBZ7K5",
    "outputId": "3e08247a-257f-4b3a-9d39-37eb99497853"
   },
   "outputs": [
    {
     "name": "stdout",
     "output_type": "stream",
     "text": [
      "Top 10 recommendations for user AZSV99SDJC242:\n"
     ]
    },
    {
     "data": {
      "text/html": [
       "<div>\n",
       "<style scoped>\n",
       "    .dataframe tbody tr th:only-of-type {\n",
       "        vertical-align: middle;\n",
       "    }\n",
       "\n",
       "    .dataframe tbody tr th {\n",
       "        vertical-align: top;\n",
       "    }\n",
       "\n",
       "    .dataframe thead th {\n",
       "        text-align: right;\n",
       "    }\n",
       "</style>\n",
       "<table border=\"1\" class=\"dataframe\">\n",
       "  <thead>\n",
       "    <tr style=\"text-align: right;\">\n",
       "      <th></th>\n",
       "      <th>bookID</th>\n",
       "      <th>bookTitle</th>\n",
       "      <th>bookAuthor</th>\n",
       "      <th>bookCategory</th>\n",
       "      <th>Price</th>\n",
       "      <th>weighted_rating</th>\n",
       "      <th>image</th>\n",
       "      <th>score_collaborative</th>\n",
       "    </tr>\n",
       "  </thead>\n",
       "  <tbody>\n",
       "    <tr>\n",
       "      <th>13</th>\n",
       "      <td>721417299</td>\n",
       "      <td>Christmas Carol</td>\n",
       "      <td>Charles Dickens</td>\n",
       "      <td>['Childrens Stories']</td>\n",
       "      <td>13.06</td>\n",
       "      <td>4.489513</td>\n",
       "      <td>http://books.google.com/books/content?id=Yg_4w...</td>\n",
       "      <td>4.676813</td>\n",
       "    </tr>\n",
       "    <tr>\n",
       "      <th>79</th>\n",
       "      <td>808598104</td>\n",
       "      <td>The Killer Angels</td>\n",
       "      <td>Michael Shaara</td>\n",
       "      <td>['Fiction']</td>\n",
       "      <td>13.80</td>\n",
       "      <td>4.490088</td>\n",
       "      <td>http://books.google.com/books/content?id=wNE8P...</td>\n",
       "      <td>4.639634</td>\n",
       "    </tr>\n",
       "    <tr>\n",
       "      <th>88</th>\n",
       "      <td>B000TNGU5M</td>\n",
       "      <td>Night</td>\n",
       "      <td>Clement Moore</td>\n",
       "      <td>['Juvenile Fiction']</td>\n",
       "      <td>40.68</td>\n",
       "      <td>4.600841</td>\n",
       "      <td>http://books.google.com/books/content?id=LSSyD...</td>\n",
       "      <td>4.630193</td>\n",
       "    </tr>\n",
       "    <tr>\n",
       "      <th>133</th>\n",
       "      <td>B000N79NHQ</td>\n",
       "      <td>Animal Farm 50th Anniversary Edition</td>\n",
       "      <td>George Orwell</td>\n",
       "      <td>['Fiction']</td>\n",
       "      <td>24.19</td>\n",
       "      <td>4.508823</td>\n",
       "      <td>http://books.google.com/books/content?id=Ka5iF...</td>\n",
       "      <td>4.612696</td>\n",
       "    </tr>\n",
       "    <tr>\n",
       "      <th>246</th>\n",
       "      <td>B0000632ZJ</td>\n",
       "      <td>Lonesome Dove</td>\n",
       "      <td>Larry McMurtry</td>\n",
       "      <td>['Fiction']</td>\n",
       "      <td>36.93</td>\n",
       "      <td>4.464135</td>\n",
       "      <td>http://books.google.com/books/content?id=rZohf...</td>\n",
       "      <td>4.593668</td>\n",
       "    </tr>\n",
       "    <tr>\n",
       "      <th>321</th>\n",
       "      <td>446781819</td>\n",
       "      <td>Gone With the Wind</td>\n",
       "      <td>Margaret Mitchell</td>\n",
       "      <td>['Fiction']</td>\n",
       "      <td>34.16</td>\n",
       "      <td>4.489513</td>\n",
       "      <td>http://books.google.com/books/content?id=01KdD...</td>\n",
       "      <td>4.588171</td>\n",
       "    </tr>\n",
       "    <tr>\n",
       "      <th>330</th>\n",
       "      <td>B000HKRIJO</td>\n",
       "      <td>Mere Christianity</td>\n",
       "      <td>C. S. Lewis</td>\n",
       "      <td>['Religion']</td>\n",
       "      <td>16.51</td>\n",
       "      <td>4.468234</td>\n",
       "      <td>http://books.google.com/books/content?id=OF-YS...</td>\n",
       "      <td>4.584618</td>\n",
       "    </tr>\n",
       "    <tr>\n",
       "      <th>433</th>\n",
       "      <td>B0007BY9UY</td>\n",
       "      <td>Homage to Catalonia</td>\n",
       "      <td>George Orwell</td>\n",
       "      <td>['Biography', 'Autobiography']</td>\n",
       "      <td>30.72</td>\n",
       "      <td>4.442714</td>\n",
       "      <td>http://books.google.com/books/content?id=Ybr7D...</td>\n",
       "      <td>4.570064</td>\n",
       "    </tr>\n",
       "    <tr>\n",
       "      <th>509</th>\n",
       "      <td>B000GQK706</td>\n",
       "      <td>The Lord of the Rings - Boxed Set</td>\n",
       "      <td>j.r.r. Tolkien</td>\n",
       "      <td>['Young Adult Fiction']</td>\n",
       "      <td>6.87</td>\n",
       "      <td>4.544882</td>\n",
       "      <td>http://books.google.com/books/content?id=CixXE...</td>\n",
       "      <td>4.567467</td>\n",
       "    </tr>\n",
       "    <tr>\n",
       "      <th>1042</th>\n",
       "      <td>B000NOXDUC</td>\n",
       "      <td>The Rise and Fall of the Third Reich - 2 Volum...</td>\n",
       "      <td>William L. Shirer</td>\n",
       "      <td>['History']</td>\n",
       "      <td>43.92</td>\n",
       "      <td>4.469761</td>\n",
       "      <td>http://books.google.com/books/content?id=kWhsD...</td>\n",
       "      <td>4.553456</td>\n",
       "    </tr>\n",
       "  </tbody>\n",
       "</table>\n",
       "</div>"
      ],
      "text/plain": [
       "          bookID                                          bookTitle  \\\n",
       "13     721417299                                    Christmas Carol   \n",
       "79     808598104                                  The Killer Angels   \n",
       "88    B000TNGU5M                                              Night   \n",
       "133   B000N79NHQ               Animal Farm 50th Anniversary Edition   \n",
       "246   B0000632ZJ                                      Lonesome Dove   \n",
       "321    446781819                                 Gone With the Wind   \n",
       "330   B000HKRIJO                                  Mere Christianity   \n",
       "433   B0007BY9UY                                Homage to Catalonia   \n",
       "509   B000GQK706                  The Lord of the Rings - Boxed Set   \n",
       "1042  B000NOXDUC  The Rise and Fall of the Third Reich - 2 Volum...   \n",
       "\n",
       "             bookAuthor                    bookCategory  Price  \\\n",
       "13      Charles Dickens           ['Childrens Stories']  13.06   \n",
       "79       Michael Shaara                     ['Fiction']  13.80   \n",
       "88        Clement Moore            ['Juvenile Fiction']  40.68   \n",
       "133       George Orwell                     ['Fiction']  24.19   \n",
       "246      Larry McMurtry                     ['Fiction']  36.93   \n",
       "321   Margaret Mitchell                     ['Fiction']  34.16   \n",
       "330         C. S. Lewis                    ['Religion']  16.51   \n",
       "433       George Orwell  ['Biography', 'Autobiography']  30.72   \n",
       "509      j.r.r. Tolkien         ['Young Adult Fiction']   6.87   \n",
       "1042  William L. Shirer                     ['History']  43.92   \n",
       "\n",
       "      weighted_rating                                              image  \\\n",
       "13           4.489513  http://books.google.com/books/content?id=Yg_4w...   \n",
       "79           4.490088  http://books.google.com/books/content?id=wNE8P...   \n",
       "88           4.600841  http://books.google.com/books/content?id=LSSyD...   \n",
       "133          4.508823  http://books.google.com/books/content?id=Ka5iF...   \n",
       "246          4.464135  http://books.google.com/books/content?id=rZohf...   \n",
       "321          4.489513  http://books.google.com/books/content?id=01KdD...   \n",
       "330          4.468234  http://books.google.com/books/content?id=OF-YS...   \n",
       "433          4.442714  http://books.google.com/books/content?id=Ybr7D...   \n",
       "509          4.544882  http://books.google.com/books/content?id=CixXE...   \n",
       "1042         4.469761  http://books.google.com/books/content?id=kWhsD...   \n",
       "\n",
       "      score_collaborative  \n",
       "13               4.676813  \n",
       "79               4.639634  \n",
       "88               4.630193  \n",
       "133              4.612696  \n",
       "246              4.593668  \n",
       "321              4.588171  \n",
       "330              4.584618  \n",
       "433              4.570064  \n",
       "509              4.567467  \n",
       "1042             4.553456  "
      ]
     },
     "execution_count": 194,
     "metadata": {},
     "output_type": "execute_result"
    }
   ],
   "source": [
    "target_user_id = 'AZSV99SDJC242'\n",
    "top_n = 10\n",
    "recommendations = collaborative_filtering_recommendations(df, target_user_id, top_n=top_n)\n",
    "print(f\"Top {top_n} recommendations for user {target_user_id}:\")\n",
    "recommendations"
   ]
  },
  {
   "cell_type": "markdown",
   "metadata": {
    "id": "OpWHvIzsbZmt",
    "jp-MarkdownHeadingCollapsed": true
   },
   "source": [
    "# Hybird Recommendations"
   ]
  },
  {
   "cell_type": "code",
   "execution_count": 197,
   "metadata": {
    "colab": {
     "base_uri": "https://localhost:8080/"
    },
    "id": "jMuoajm2beRN",
    "outputId": "559eecf8-4bc7-4981-9cfe-00b5f1fc8b8e"
   },
   "outputs": [
    {
     "data": {
      "text/plain": [
       "Index(['userID', 'canonical_book_id', 'userName', 'bookID', 'rating',\n",
       "       'bookTitle', 'bookAuthor', 'bookCategory', 'bookPublisher',\n",
       "       'description', 'image', 'Title', 'authors', 'publishedDate', 'Price',\n",
       "       'publisher', 'categories', 'timestamp', 'rating_count',\n",
       "       'rated_books_count', 'tags', 'average_ratings', 'weighted_rating'],\n",
       "      dtype='object')"
      ]
     },
     "execution_count": 197,
     "metadata": {},
     "output_type": "execute_result"
    }
   ],
   "source": [
    "df.columns"
   ]
  },
  {
   "cell_type": "code",
   "execution_count": 225,
   "metadata": {},
   "outputs": [],
   "source": [
    "from sklearn.preprocessing import MinMaxScaler\n",
    "\n",
    "#  Generate Content-Based Recommendations with Scores\n",
    "book_title = 'The Hobbit'\n",
    "content_recommendations = contentBased_recommendations(title, cosine_similarities_content, df, top_n=50)\n",
    "\n",
    "# Generate Collaborative Filtering Recommendations with Scores\n",
    "target_user_id = 'AHD101501WCN1'\n",
    "collaborative_recommendations = collaborative_filtering_recommendations(df, target_user_id, top_n=50)\n",
    "\n",
    "# Normalize, Merge, and Combine Recommendations\n",
    "\n",
    "# Normalize scores\n",
    "def normalize_scores(df, score_column):\n",
    "    scaler = MinMaxScaler()\n",
    "    df[score_column] = scaler.fit_transform(df[[score_column]])\n",
    "    return df\n",
    "\n",
    "content_recommendations = normalize_scores(content_recommendations, 'score_content')\n",
    "collaborative_recommendations = normalize_scores(collaborative_recommendations, 'score_collaborative')\n",
    "\n",
    "# Ensure 'bookID's are strings\n",
    "content_recommendations['bookID'] = content_recommendations['bookID'].astype(str)\n",
    "collaborative_recommendations['bookID'] = collaborative_recommendations['bookID'].astype(str)\n",
    "\n",
    "# Check for missing 'bookID's\n",
    "if content_recommendations['bookID'].isnull().any():\n",
    "    print(\"Null 'bookID's found in content_recommendations\")\n",
    "    # Handle accordingly, e.g., drop rows with null 'bookID's\n",
    "    content_recommendations = content_recommendations.dropna(subset=['bookID'])\n",
    "\n",
    "if collaborative_recommendations['bookID'].isnull().any():\n",
    "    print(\"Null 'bookID's found in collaborative_recommendations\")\n",
    "    collaborative_recommendations = collaborative_recommendations.dropna(subset=['bookID'])\n",
    "\n",
    "# Verify 'score_content' and 'score_collaborative' columns exist\n",
    "if 'score_content' not in content_recommendations.columns:\n",
    "    print(\"'score_content' column is missing in content_recommendations\")\n",
    "\n",
    "if 'score_collaborative' not in collaborative_recommendations.columns:\n",
    "    print(\"'score_collaborative' column is missing in collaborative_recommendations\")\n",
    "\n",
    "# Merge recommendations\n",
    "combined_recommendations = pd.merge(\n",
    "    content_recommendations,\n",
    "    collaborative_recommendations,\n",
    "    on='bookID',\n",
    "    how='outer',\n",
    "    suffixes=('_content', '_collaborative')\n",
    ")\n",
    "\n",
    "# Fill missing scores\n",
    "combined_recommendations['score_content'] = combined_recommendations['score_content'].fillna(0)\n",
    "combined_recommendations['score_collaborative'] = combined_recommendations['score_collaborative'].fillna(0)\n",
    "\n",
    "# Calculate weighted scores\n",
    "content_weight = 0.5\n",
    "collaborative_weight = 0.5\n",
    "\n",
    "combined_recommendations['hybrid_score'] = (\n",
    "    content_weight * combined_recommendations['score_content'] +\n",
    "    collaborative_weight * combined_recommendations['score_collaborative']\n",
    ")\n",
    "\n",
    "# Sort and select top recommendations\n",
    "combined_recommendations = combined_recommendations.sort_values(by='hybrid_score', ascending=False)\n",
    "\n",
    "# Filter out books without titles\n",
    "#combined_recommendations = combined_recommendations[combined_recommendations['bookTitle'].notna()]\n",
    "\n",
    "# Reset index after filtering\n",
    "combined_recommendations.reset_index(drop=True, inplace=True)\n",
    "\n",
    "# Ensure we have enough recommendations\n",
    "top_n = 10\n",
    "if len(combined_recommendations) < top_n:\n",
    "    top_n = len(combined_recommendations)\n",
    "top_recommendations = combined_recommendations.head(top_n)\n",
    "\n"
   ]
  },
  {
   "cell_type": "code",
   "execution_count": 229,
   "metadata": {},
   "outputs": [
    {
     "data": {
      "text/html": [
       "<div>\n",
       "<style scoped>\n",
       "    .dataframe tbody tr th:only-of-type {\n",
       "        vertical-align: middle;\n",
       "    }\n",
       "\n",
       "    .dataframe tbody tr th {\n",
       "        vertical-align: top;\n",
       "    }\n",
       "\n",
       "    .dataframe thead th {\n",
       "        text-align: right;\n",
       "    }\n",
       "</style>\n",
       "<table border=\"1\" class=\"dataframe\">\n",
       "  <thead>\n",
       "    <tr style=\"text-align: right;\">\n",
       "      <th></th>\n",
       "      <th>userID</th>\n",
       "      <th>canonical_book_id</th>\n",
       "      <th>userName</th>\n",
       "      <th>bookID</th>\n",
       "      <th>rating</th>\n",
       "      <th>bookTitle_content</th>\n",
       "      <th>bookAuthor_content</th>\n",
       "      <th>bookCategory_content</th>\n",
       "      <th>bookPublisher</th>\n",
       "      <th>description</th>\n",
       "      <th>...</th>\n",
       "      <th>processed_title</th>\n",
       "      <th>score_content</th>\n",
       "      <th>bookTitle_collaborative</th>\n",
       "      <th>bookAuthor_collaborative</th>\n",
       "      <th>bookCategory_collaborative</th>\n",
       "      <th>Price_collaborative</th>\n",
       "      <th>weighted_rating_collaborative</th>\n",
       "      <th>image_collaborative</th>\n",
       "      <th>score_collaborative</th>\n",
       "      <th>hybrid_score</th>\n",
       "    </tr>\n",
       "  </thead>\n",
       "  <tbody>\n",
       "    <tr>\n",
       "      <th>0</th>\n",
       "      <td>A2P6KAWXJ16234</td>\n",
       "      <td>2474.0</td>\n",
       "      <td>Kelly (Fantasy Literature)</td>\n",
       "      <td>B000GQK706</td>\n",
       "      <td>4.0</td>\n",
       "      <td>The Lord of the Rings - Boxed Set</td>\n",
       "      <td>j.r.r. Tolkien</td>\n",
       "      <td>['Young Adult Fiction']</td>\n",
       "      <td>HarperCollins</td>\n",
       "      <td>beautiful gift edition hobbit j.r.r tolkien cl...</td>\n",
       "      <td>...</td>\n",
       "      <td>lord rings boxed set</td>\n",
       "      <td>1.000000</td>\n",
       "      <td>The Lord of the Rings - Boxed Set</td>\n",
       "      <td>j.r.r. Tolkien</td>\n",
       "      <td>['Young Adult Fiction']</td>\n",
       "      <td>6.87</td>\n",
       "      <td>4.544882</td>\n",
       "      <td>http://books.google.com/books/content?id=CixXE...</td>\n",
       "      <td>0.520158</td>\n",
       "      <td>0.760079</td>\n",
       "    </tr>\n",
       "    <tr>\n",
       "      <th>1</th>\n",
       "      <td>A2TAPSNKK9AFSQ</td>\n",
       "      <td>2970.0</td>\n",
       "      <td>John Baranyai \"Book Nerd And Ex High School G...</td>\n",
       "      <td>B000I1V604</td>\n",
       "      <td>5.0</td>\n",
       "      <td>One Flew Over the Cuckoo's Nest</td>\n",
       "      <td>Ken Kesey</td>\n",
       "      <td>['Fiction']</td>\n",
       "      <td>Penguin</td>\n",
       "      <td>inspiration new netflix original series ratche...</td>\n",
       "      <td>...</td>\n",
       "      <td>one flew cuckoos nest</td>\n",
       "      <td>0.475820</td>\n",
       "      <td>One Flew Over the Cuckoo's Nest</td>\n",
       "      <td>Ken Kesey</td>\n",
       "      <td>['Fiction']</td>\n",
       "      <td>15.80</td>\n",
       "      <td>4.399619</td>\n",
       "      <td>http://books.google.com/books/content?id=KhRvD...</td>\n",
       "      <td>0.765484</td>\n",
       "      <td>0.620652</td>\n",
       "    </tr>\n",
       "    <tr>\n",
       "      <th>2</th>\n",
       "      <td>A1POFVVXUZR3IQ</td>\n",
       "      <td>1824.0</td>\n",
       "      <td>Z Hayes</td>\n",
       "      <td>B000IEZE3G</td>\n",
       "      <td>5.0</td>\n",
       "      <td>Harry Potter and the Sorcerer's Stone</td>\n",
       "      <td>J. K. Rowling</td>\n",
       "      <td>['Juvenile Fiction']</td>\n",
       "      <td>Bloomsbury Publishing</td>\n",
       "      <td>celebrate year harry potter magic harry potter...</td>\n",
       "      <td>...</td>\n",
       "      <td>harry potter sorcerers stone</td>\n",
       "      <td>0.136002</td>\n",
       "      <td>Harry Potter and the Sorcerer's Stone</td>\n",
       "      <td>J. K. Rowling</td>\n",
       "      <td>['Juvenile Fiction']</td>\n",
       "      <td>30.54</td>\n",
       "      <td>4.517416</td>\n",
       "      <td>http://books.google.com/books/content?id=HksgD...</td>\n",
       "      <td>1.000000</td>\n",
       "      <td>0.568001</td>\n",
       "    </tr>\n",
       "    <tr>\n",
       "      <th>3</th>\n",
       "      <td>A3P9D22KDEXVMN</td>\n",
       "      <td>718.0</td>\n",
       "      <td>Happy Chappy \"An Avid Reader.\"</td>\n",
       "      <td>721417299</td>\n",
       "      <td>5.0</td>\n",
       "      <td>Christmas Carol</td>\n",
       "      <td>Charles Dickens</td>\n",
       "      <td>['Childrens Stories']</td>\n",
       "      <td>Ladybird</td>\n",
       "      <td>ladybird classic abridged retelling classic st...</td>\n",
       "      <td>...</td>\n",
       "      <td>christmas carol</td>\n",
       "      <td>0.076380</td>\n",
       "      <td>Christmas Carol</td>\n",
       "      <td>Charles Dickens</td>\n",
       "      <td>['Childrens Stories']</td>\n",
       "      <td>13.06</td>\n",
       "      <td>4.489513</td>\n",
       "      <td>http://books.google.com/books/content?id=Yg_4w...</td>\n",
       "      <td>1.000000</td>\n",
       "      <td>0.538190</td>\n",
       "    </tr>\n",
       "    <tr>\n",
       "      <th>4</th>\n",
       "      <td>NaN</td>\n",
       "      <td>NaN</td>\n",
       "      <td>NaN</td>\n",
       "      <td>B000NHNM3C</td>\n",
       "      <td>NaN</td>\n",
       "      <td>NaN</td>\n",
       "      <td>NaN</td>\n",
       "      <td>NaN</td>\n",
       "      <td>NaN</td>\n",
       "      <td>NaN</td>\n",
       "      <td>...</td>\n",
       "      <td>NaN</td>\n",
       "      <td>0.000000</td>\n",
       "      <td>George Orwell 1984</td>\n",
       "      <td>George Orwell</td>\n",
       "      <td>['Fiction']</td>\n",
       "      <td>5.13</td>\n",
       "      <td>4.593366</td>\n",
       "      <td>http://books.google.com/books/content?id=PEpoE...</td>\n",
       "      <td>1.000000</td>\n",
       "      <td>0.500000</td>\n",
       "    </tr>\n",
       "    <tr>\n",
       "      <th>5</th>\n",
       "      <td>NaN</td>\n",
       "      <td>NaN</td>\n",
       "      <td>NaN</td>\n",
       "      <td>B0000ANLB7</td>\n",
       "      <td>NaN</td>\n",
       "      <td>NaN</td>\n",
       "      <td>NaN</td>\n",
       "      <td>NaN</td>\n",
       "      <td>NaN</td>\n",
       "      <td>NaN</td>\n",
       "      <td>...</td>\n",
       "      <td>NaN</td>\n",
       "      <td>0.000000</td>\n",
       "      <td>To the Nines</td>\n",
       "      <td>Janet Evanovich</td>\n",
       "      <td>['Fiction']</td>\n",
       "      <td>14.62</td>\n",
       "      <td>4.389777</td>\n",
       "      <td>http://books.google.com/books/content?id=jKx9f...</td>\n",
       "      <td>1.000000</td>\n",
       "      <td>0.500000</td>\n",
       "    </tr>\n",
       "    <tr>\n",
       "      <th>6</th>\n",
       "      <td>NaN</td>\n",
       "      <td>NaN</td>\n",
       "      <td>NaN</td>\n",
       "      <td>B00005UVH9</td>\n",
       "      <td>NaN</td>\n",
       "      <td>NaN</td>\n",
       "      <td>NaN</td>\n",
       "      <td>NaN</td>\n",
       "      <td>NaN</td>\n",
       "      <td>NaN</td>\n",
       "      <td>...</td>\n",
       "      <td>NaN</td>\n",
       "      <td>0.000000</td>\n",
       "      <td>A Fine Balance</td>\n",
       "      <td>Rohinton Mistry</td>\n",
       "      <td>['Fiction']</td>\n",
       "      <td>38.66</td>\n",
       "      <td>4.429607</td>\n",
       "      <td>http://books.google.com/books/content?id=WcaFd...</td>\n",
       "      <td>1.000000</td>\n",
       "      <td>0.500000</td>\n",
       "    </tr>\n",
       "    <tr>\n",
       "      <th>7</th>\n",
       "      <td>NaN</td>\n",
       "      <td>NaN</td>\n",
       "      <td>NaN</td>\n",
       "      <td>B000NDSX6C</td>\n",
       "      <td>NaN</td>\n",
       "      <td>NaN</td>\n",
       "      <td>NaN</td>\n",
       "      <td>NaN</td>\n",
       "      <td>NaN</td>\n",
       "      <td>NaN</td>\n",
       "      <td>...</td>\n",
       "      <td>NaN</td>\n",
       "      <td>0.000000</td>\n",
       "      <td>The Hobbit</td>\n",
       "      <td>J. R. R. Tolkien</td>\n",
       "      <td>['Juvenile Fiction']</td>\n",
       "      <td>34.80</td>\n",
       "      <td>4.551917</td>\n",
       "      <td>http://books.google.com/books/content?id=LLSpn...</td>\n",
       "      <td>1.000000</td>\n",
       "      <td>0.500000</td>\n",
       "    </tr>\n",
       "    <tr>\n",
       "      <th>8</th>\n",
       "      <td>NaN</td>\n",
       "      <td>NaN</td>\n",
       "      <td>NaN</td>\n",
       "      <td>B0000632ZJ</td>\n",
       "      <td>NaN</td>\n",
       "      <td>NaN</td>\n",
       "      <td>NaN</td>\n",
       "      <td>NaN</td>\n",
       "      <td>NaN</td>\n",
       "      <td>NaN</td>\n",
       "      <td>...</td>\n",
       "      <td>NaN</td>\n",
       "      <td>0.000000</td>\n",
       "      <td>Lonesome Dove</td>\n",
       "      <td>Larry McMurtry</td>\n",
       "      <td>['Fiction']</td>\n",
       "      <td>36.93</td>\n",
       "      <td>4.464135</td>\n",
       "      <td>http://books.google.com/books/content?id=rZohf...</td>\n",
       "      <td>1.000000</td>\n",
       "      <td>0.500000</td>\n",
       "    </tr>\n",
       "    <tr>\n",
       "      <th>9</th>\n",
       "      <td>NaN</td>\n",
       "      <td>NaN</td>\n",
       "      <td>NaN</td>\n",
       "      <td>B000MZWXNA</td>\n",
       "      <td>NaN</td>\n",
       "      <td>NaN</td>\n",
       "      <td>NaN</td>\n",
       "      <td>NaN</td>\n",
       "      <td>NaN</td>\n",
       "      <td>NaN</td>\n",
       "      <td>...</td>\n",
       "      <td>NaN</td>\n",
       "      <td>0.000000</td>\n",
       "      <td>The Martian Way</td>\n",
       "      <td>Isaac Asimov</td>\n",
       "      <td>['Fiction']</td>\n",
       "      <td>38.20</td>\n",
       "      <td>4.388064</td>\n",
       "      <td>http://books.google.com/books/content?id=oEMGH...</td>\n",
       "      <td>1.000000</td>\n",
       "      <td>0.500000</td>\n",
       "    </tr>\n",
       "  </tbody>\n",
       "</table>\n",
       "<p>10 rows × 33 columns</p>\n",
       "</div>"
      ],
      "text/plain": [
       "           userID  canonical_book_id  \\\n",
       "0  A2P6KAWXJ16234             2474.0   \n",
       "1  A2TAPSNKK9AFSQ             2970.0   \n",
       "2  A1POFVVXUZR3IQ             1824.0   \n",
       "3  A3P9D22KDEXVMN              718.0   \n",
       "4             NaN                NaN   \n",
       "5             NaN                NaN   \n",
       "6             NaN                NaN   \n",
       "7             NaN                NaN   \n",
       "8             NaN                NaN   \n",
       "9             NaN                NaN   \n",
       "\n",
       "                                           userName      bookID  rating  \\\n",
       "0                        Kelly (Fantasy Literature)  B000GQK706     4.0   \n",
       "1  John Baranyai \"Book Nerd And Ex High School G...  B000I1V604     5.0   \n",
       "2                                           Z Hayes  B000IEZE3G     5.0   \n",
       "3                    Happy Chappy \"An Avid Reader.\"   721417299     5.0   \n",
       "4                                               NaN  B000NHNM3C     NaN   \n",
       "5                                               NaN  B0000ANLB7     NaN   \n",
       "6                                               NaN  B00005UVH9     NaN   \n",
       "7                                               NaN  B000NDSX6C     NaN   \n",
       "8                                               NaN  B0000632ZJ     NaN   \n",
       "9                                               NaN  B000MZWXNA     NaN   \n",
       "\n",
       "                       bookTitle_content bookAuthor_content  \\\n",
       "0      The Lord of the Rings - Boxed Set     j.r.r. Tolkien   \n",
       "1        One Flew Over the Cuckoo's Nest          Ken Kesey   \n",
       "2  Harry Potter and the Sorcerer's Stone      J. K. Rowling   \n",
       "3                        Christmas Carol    Charles Dickens   \n",
       "4                                    NaN                NaN   \n",
       "5                                    NaN                NaN   \n",
       "6                                    NaN                NaN   \n",
       "7                                    NaN                NaN   \n",
       "8                                    NaN                NaN   \n",
       "9                                    NaN                NaN   \n",
       "\n",
       "      bookCategory_content          bookPublisher  \\\n",
       "0  ['Young Adult Fiction']          HarperCollins   \n",
       "1              ['Fiction']                Penguin   \n",
       "2     ['Juvenile Fiction']  Bloomsbury Publishing   \n",
       "3    ['Childrens Stories']               Ladybird   \n",
       "4                      NaN                    NaN   \n",
       "5                      NaN                    NaN   \n",
       "6                      NaN                    NaN   \n",
       "7                      NaN                    NaN   \n",
       "8                      NaN                    NaN   \n",
       "9                      NaN                    NaN   \n",
       "\n",
       "                                         description  ...  \\\n",
       "0  beautiful gift edition hobbit j.r.r tolkien cl...  ...   \n",
       "1  inspiration new netflix original series ratche...  ...   \n",
       "2  celebrate year harry potter magic harry potter...  ...   \n",
       "3  ladybird classic abridged retelling classic st...  ...   \n",
       "4                                                NaN  ...   \n",
       "5                                                NaN  ...   \n",
       "6                                                NaN  ...   \n",
       "7                                                NaN  ...   \n",
       "8                                                NaN  ...   \n",
       "9                                                NaN  ...   \n",
       "\n",
       "                processed_title score_content  \\\n",
       "0          lord rings boxed set      1.000000   \n",
       "1         one flew cuckoos nest      0.475820   \n",
       "2  harry potter sorcerers stone      0.136002   \n",
       "3               christmas carol      0.076380   \n",
       "4                           NaN      0.000000   \n",
       "5                           NaN      0.000000   \n",
       "6                           NaN      0.000000   \n",
       "7                           NaN      0.000000   \n",
       "8                           NaN      0.000000   \n",
       "9                           NaN      0.000000   \n",
       "\n",
       "                 bookTitle_collaborative  bookAuthor_collaborative  \\\n",
       "0      The Lord of the Rings - Boxed Set            j.r.r. Tolkien   \n",
       "1        One Flew Over the Cuckoo's Nest                 Ken Kesey   \n",
       "2  Harry Potter and the Sorcerer's Stone             J. K. Rowling   \n",
       "3                        Christmas Carol           Charles Dickens   \n",
       "4                     George Orwell 1984             George Orwell   \n",
       "5                           To the Nines           Janet Evanovich   \n",
       "6                         A Fine Balance           Rohinton Mistry   \n",
       "7                             The Hobbit          J. R. R. Tolkien   \n",
       "8                          Lonesome Dove            Larry McMurtry   \n",
       "9                        The Martian Way              Isaac Asimov   \n",
       "\n",
       "   bookCategory_collaborative Price_collaborative  \\\n",
       "0     ['Young Adult Fiction']                6.87   \n",
       "1                 ['Fiction']               15.80   \n",
       "2        ['Juvenile Fiction']               30.54   \n",
       "3       ['Childrens Stories']               13.06   \n",
       "4                 ['Fiction']                5.13   \n",
       "5                 ['Fiction']               14.62   \n",
       "6                 ['Fiction']               38.66   \n",
       "7        ['Juvenile Fiction']               34.80   \n",
       "8                 ['Fiction']               36.93   \n",
       "9                 ['Fiction']               38.20   \n",
       "\n",
       "  weighted_rating_collaborative  \\\n",
       "0                      4.544882   \n",
       "1                      4.399619   \n",
       "2                      4.517416   \n",
       "3                      4.489513   \n",
       "4                      4.593366   \n",
       "5                      4.389777   \n",
       "6                      4.429607   \n",
       "7                      4.551917   \n",
       "8                      4.464135   \n",
       "9                      4.388064   \n",
       "\n",
       "                                 image_collaborative  score_collaborative  \\\n",
       "0  http://books.google.com/books/content?id=CixXE...             0.520158   \n",
       "1  http://books.google.com/books/content?id=KhRvD...             0.765484   \n",
       "2  http://books.google.com/books/content?id=HksgD...             1.000000   \n",
       "3  http://books.google.com/books/content?id=Yg_4w...             1.000000   \n",
       "4  http://books.google.com/books/content?id=PEpoE...             1.000000   \n",
       "5  http://books.google.com/books/content?id=jKx9f...             1.000000   \n",
       "6  http://books.google.com/books/content?id=WcaFd...             1.000000   \n",
       "7  http://books.google.com/books/content?id=LLSpn...             1.000000   \n",
       "8  http://books.google.com/books/content?id=rZohf...             1.000000   \n",
       "9  http://books.google.com/books/content?id=oEMGH...             1.000000   \n",
       "\n",
       "   hybrid_score  \n",
       "0      0.760079  \n",
       "1      0.620652  \n",
       "2      0.568001  \n",
       "3      0.538190  \n",
       "4      0.500000  \n",
       "5      0.500000  \n",
       "6      0.500000  \n",
       "7      0.500000  \n",
       "8      0.500000  \n",
       "9      0.500000  \n",
       "\n",
       "[10 rows x 33 columns]"
      ]
     },
     "execution_count": 229,
     "metadata": {},
     "output_type": "execute_result"
    }
   ],
   "source": [
    "top_recommendations"
   ]
  },
  {
   "cell_type": "code",
   "execution_count": null,
   "metadata": {},
   "outputs": [],
   "source": []
  }
 ],
 "metadata": {
  "colab": {
   "collapsed_sections": [
    "7_X5Vk3FUtP4",
    "hQy8Jt2LU9Np",
    "3fZ-_uVlVcZN",
    "giz-5iDqX3qD",
    "OEpYW5F9u6KD"
   ],
   "provenance": []
  },
  "kernelspec": {
   "display_name": "MYENV",
   "language": "python",
   "name": "myenv"
  },
  "language_info": {
   "codemirror_mode": {
    "name": "ipython",
    "version": 3
   },
   "file_extension": ".py",
   "mimetype": "text/x-python",
   "name": "python",
   "nbconvert_exporter": "python",
   "pygments_lexer": "ipython3",
   "version": "3.9.19"
  }
 },
 "nbformat": 4,
 "nbformat_minor": 4
}
